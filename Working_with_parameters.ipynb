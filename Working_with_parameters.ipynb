{
 "cells": [
  {
   "cell_type": "markdown",
   "metadata": {
    "id": "37nZbUCQK6zA"
   },
   "source": [
    "### Working with parameters\n",
    "\n",
    "\n"
   ]
  },
  {
   "cell_type": "markdown",
   "metadata": {
    "id": "PPpuu3Zerb66"
   },
   "source": [
    "To explore the dataset, I had to import ‘chardet’ to determine how the csv file was encoded so that I could load and read "
   ]
  },
  {
   "cell_type": "code",
   "execution_count": 2,
   "metadata": {
    "colab": {
     "base_uri": "https://localhost:8080/"
    },
    "id": "wkKP8YomrcJY",
    "outputId": "be444f41-c832-435c-8482-02a8460e1022"
   },
   "outputs": [
    {
     "data": {
      "text/html": [
       "<div>\n",
       "<style scoped>\n",
       "    .dataframe tbody tr th:only-of-type {\n",
       "        vertical-align: middle;\n",
       "    }\n",
       "\n",
       "    .dataframe tbody tr th {\n",
       "        vertical-align: top;\n",
       "    }\n",
       "\n",
       "    .dataframe thead th {\n",
       "        text-align: right;\n",
       "    }\n",
       "</style>\n",
       "<table border=\"1\" class=\"dataframe\">\n",
       "  <thead>\n",
       "    <tr style=\"text-align: right;\">\n",
       "      <th></th>\n",
       "      <th>Segment</th>\n",
       "      <th>Mapping</th>\n",
       "      <th>Annual_Salary</th>\n",
       "      <th>Gender</th>\n",
       "      <th>Education</th>\n",
       "      <th>Living_Region</th>\n",
       "      <th>Age</th>\n",
       "      <th>Online_Consumer</th>\n",
       "      <th>Online_Service_Preference</th>\n",
       "      <th>AI_Endorsement</th>\n",
       "      <th>...</th>\n",
       "      <th>Previous Purchases</th>\n",
       "      <th>Purchase Amount</th>\n",
       "      <th>AI_Tools Applied</th>\n",
       "      <th>Item Purchased</th>\n",
       "      <th>Category</th>\n",
       "      <th>Size</th>\n",
       "      <th>Color</th>\n",
       "      <th>Season</th>\n",
       "      <th>Shipping Type</th>\n",
       "      <th>Frequency of Purchases</th>\n",
       "    </tr>\n",
       "  </thead>\n",
       "  <tbody>\n",
       "    <tr>\n",
       "      <th>651</th>\n",
       "      <td>Male_Millennials_Metropolitan_Medium</td>\n",
       "      <td>Male_Millennials</td>\n",
       "      <td>Medium</td>\n",
       "      <td>Male</td>\n",
       "      <td>University Graduate</td>\n",
       "      <td>Metropolitan</td>\n",
       "      <td>Millennials</td>\n",
       "      <td>1</td>\n",
       "      <td>1</td>\n",
       "      <td>0</td>\n",
       "      <td>...</td>\n",
       "      <td>3</td>\n",
       "      <td>51.0</td>\n",
       "      <td>Yes</td>\n",
       "      <td>Socks</td>\n",
       "      <td>Clothing</td>\n",
       "      <td>M</td>\n",
       "      <td>Black</td>\n",
       "      <td>Summer</td>\n",
       "      <td>Store Pickup</td>\n",
       "      <td>Bi-Weekly</td>\n",
       "    </tr>\n",
       "    <tr>\n",
       "      <th>652</th>\n",
       "      <td>Male_Millennials_Metropolitan_High</td>\n",
       "      <td>Male_Millennials</td>\n",
       "      <td>High</td>\n",
       "      <td>Male</td>\n",
       "      <td>Highschool Graduate</td>\n",
       "      <td>Metropolitan</td>\n",
       "      <td>Millennials</td>\n",
       "      <td>1</td>\n",
       "      <td>0</td>\n",
       "      <td>0</td>\n",
       "      <td>...</td>\n",
       "      <td>16</td>\n",
       "      <td>50.0</td>\n",
       "      <td>No</td>\n",
       "      <td>Hoodie</td>\n",
       "      <td>Clothing</td>\n",
       "      <td>L</td>\n",
       "      <td>Orange</td>\n",
       "      <td>Summer</td>\n",
       "      <td>Express</td>\n",
       "      <td>Bi-Weekly</td>\n",
       "    </tr>\n",
       "    <tr>\n",
       "      <th>653</th>\n",
       "      <td>Male_Millennials_Metropolitan_Medium</td>\n",
       "      <td>Male_Millennials</td>\n",
       "      <td>Medium</td>\n",
       "      <td>Male</td>\n",
       "      <td>University Graduate</td>\n",
       "      <td>Metropolitan</td>\n",
       "      <td>Millennials</td>\n",
       "      <td>1</td>\n",
       "      <td>0</td>\n",
       "      <td>0</td>\n",
       "      <td>...</td>\n",
       "      <td>41</td>\n",
       "      <td>62.0</td>\n",
       "      <td>No</td>\n",
       "      <td>Scarf</td>\n",
       "      <td>Accessories</td>\n",
       "      <td>M</td>\n",
       "      <td>Charcoal</td>\n",
       "      <td>Winter</td>\n",
       "      <td>Free Shipping</td>\n",
       "      <td>Weekly</td>\n",
       "    </tr>\n",
       "    <tr>\n",
       "      <th>654</th>\n",
       "      <td>Male_Millennials_Suburban Areas_High</td>\n",
       "      <td>Male_Millennials</td>\n",
       "      <td>High</td>\n",
       "      <td>Male</td>\n",
       "      <td>Highschool Graduate</td>\n",
       "      <td>Suburban Areas</td>\n",
       "      <td>Millennials</td>\n",
       "      <td>1</td>\n",
       "      <td>1</td>\n",
       "      <td>0</td>\n",
       "      <td>...</td>\n",
       "      <td>9</td>\n",
       "      <td>69.0</td>\n",
       "      <td>Yes</td>\n",
       "      <td>Pants</td>\n",
       "      <td>Clothing</td>\n",
       "      <td>M</td>\n",
       "      <td>Lavender</td>\n",
       "      <td>Winter</td>\n",
       "      <td>Next Day Air</td>\n",
       "      <td>Quarterly</td>\n",
       "    </tr>\n",
       "    <tr>\n",
       "      <th>655</th>\n",
       "      <td>Prefer 0t to say_Gen Z_Metropolitan_Low</td>\n",
       "      <td>Prefer 0t to say_Gen Z</td>\n",
       "      <td>Low</td>\n",
       "      <td>Prefer 0t to say</td>\n",
       "      <td>University Graduate</td>\n",
       "      <td>Metropolitan</td>\n",
       "      <td>Gen Z</td>\n",
       "      <td>1</td>\n",
       "      <td>1</td>\n",
       "      <td>1</td>\n",
       "      <td>...</td>\n",
       "      <td>3</td>\n",
       "      <td>51.0</td>\n",
       "      <td>Yes</td>\n",
       "      <td>Socks</td>\n",
       "      <td>Clothing</td>\n",
       "      <td>M</td>\n",
       "      <td>Black</td>\n",
       "      <td>Summer</td>\n",
       "      <td>Store Pickup</td>\n",
       "      <td>Bi-Weekly</td>\n",
       "    </tr>\n",
       "  </tbody>\n",
       "</table>\n",
       "<p>5 rows × 38 columns</p>\n",
       "</div>"
      ],
      "text/plain": [
       "                                     Segment                 Mapping  \\\n",
       "651     Male_Millennials_Metropolitan_Medium        Male_Millennials   \n",
       "652       Male_Millennials_Metropolitan_High        Male_Millennials   \n",
       "653     Male_Millennials_Metropolitan_Medium        Male_Millennials   \n",
       "654     Male_Millennials_Suburban Areas_High        Male_Millennials   \n",
       "655  Prefer 0t to say_Gen Z_Metropolitan_Low  Prefer 0t to say_Gen Z   \n",
       "\n",
       "    Annual_Salary            Gender            Education   Living_Region  \\\n",
       "651        Medium              Male  University Graduate    Metropolitan   \n",
       "652          High              Male  Highschool Graduate    Metropolitan   \n",
       "653        Medium              Male  University Graduate    Metropolitan   \n",
       "654          High              Male  Highschool Graduate  Suburban Areas   \n",
       "655           Low  Prefer 0t to say  University Graduate    Metropolitan   \n",
       "\n",
       "             Age  Online_Consumer  Online_Service_Preference  AI_Endorsement  \\\n",
       "651  Millennials                1                          1               0   \n",
       "652  Millennials                1                          0               0   \n",
       "653  Millennials                1                          0               0   \n",
       "654  Millennials                1                          1               0   \n",
       "655        Gen Z                1                          1               1   \n",
       "\n",
       "     ...  Previous Purchases  Purchase Amount  AI_Tools Applied  \\\n",
       "651  ...                   3             51.0               Yes   \n",
       "652  ...                  16             50.0                No   \n",
       "653  ...                  41             62.0                No   \n",
       "654  ...                   9             69.0               Yes   \n",
       "655  ...                   3             51.0               Yes   \n",
       "\n",
       "     Item Purchased     Category  Size     Color  Season  Shipping Type  \\\n",
       "651           Socks     Clothing     M     Black  Summer   Store Pickup   \n",
       "652          Hoodie     Clothing     L    Orange  Summer        Express   \n",
       "653           Scarf  Accessories     M  Charcoal  Winter  Free Shipping   \n",
       "654           Pants     Clothing     M  Lavender  Winter   Next Day Air   \n",
       "655           Socks     Clothing     M     Black  Summer   Store Pickup   \n",
       "\n",
       "     Frequency of Purchases  \n",
       "651               Bi-Weekly  \n",
       "652               Bi-Weekly  \n",
       "653                  Weekly  \n",
       "654               Quarterly  \n",
       "655               Bi-Weekly  \n",
       "\n",
       "[5 rows x 38 columns]"
      ]
     },
     "execution_count": 2,
     "metadata": {},
     "output_type": "execute_result"
    }
   ],
   "source": [
    "import pandas as pd\n",
    "import chardet\n",
    "\n",
    "# Read the first few bytes of file\n",
    "with open('AI_Retail_WIP_Eng.csv', 'rb') as a:\n",
    "    raw_data = a.read(35000)\n",
    "\n",
    "\n",
    "# detect the encoding\n",
    "result = chardet.detect(raw_data)\n",
    "encoding = result['encoding']\n",
    "\n",
    "# read the file\n",
    "df = pd.read_csv('AI_Retail_WIP_Eng.csv', encoding=encoding)\n",
    "\n",
    "df.tail()"
   ]
  },
  {
   "cell_type": "markdown",
   "metadata": {},
   "source": [
    "Started to explore the file"
   ]
  },
  {
   "cell_type": "code",
   "execution_count": 3,
   "metadata": {},
   "outputs": [
    {
     "data": {
      "text/html": [
       "<div>\n",
       "<style scoped>\n",
       "    .dataframe tbody tr th:only-of-type {\n",
       "        vertical-align: middle;\n",
       "    }\n",
       "\n",
       "    .dataframe tbody tr th {\n",
       "        vertical-align: top;\n",
       "    }\n",
       "\n",
       "    .dataframe thead th {\n",
       "        text-align: right;\n",
       "    }\n",
       "</style>\n",
       "<table border=\"1\" class=\"dataframe\">\n",
       "  <thead>\n",
       "    <tr style=\"text-align: right;\">\n",
       "      <th></th>\n",
       "      <th>Online_Consumer</th>\n",
       "      <th>Online_Service_Preference</th>\n",
       "      <th>AI_Endorsement</th>\n",
       "      <th>AI_Privacy_No_Trust</th>\n",
       "      <th>AI_Enhance_Experience</th>\n",
       "      <th>AI_Satisfication</th>\n",
       "      <th>AI_Tools_Used _Chatbots</th>\n",
       "      <th>AI_Tools_Used_Virtual_Assistant</th>\n",
       "      <th>AI_Tools_Used_Voice&amp;Photo_Search</th>\n",
       "      <th>Number of AI Tools Used</th>\n",
       "      <th>...</th>\n",
       "      <th>Number of Payment Methods Used</th>\n",
       "      <th>Product_Category_Appliances</th>\n",
       "      <th>Product_Category_Electronics</th>\n",
       "      <th>Product_Category_Groceries</th>\n",
       "      <th>Product_Category_Personal_Care</th>\n",
       "      <th>Product_Category_Clothing</th>\n",
       "      <th>Review Rating</th>\n",
       "      <th>Frequency of Purchases (Days)</th>\n",
       "      <th>Previous Purchases</th>\n",
       "      <th>Purchase Amount</th>\n",
       "    </tr>\n",
       "  </thead>\n",
       "  <tbody>\n",
       "    <tr>\n",
       "      <th>count</th>\n",
       "      <td>656.000000</td>\n",
       "      <td>656.000000</td>\n",
       "      <td>656.000000</td>\n",
       "      <td>656.000000</td>\n",
       "      <td>656.000000</td>\n",
       "      <td>656.000000</td>\n",
       "      <td>656.000000</td>\n",
       "      <td>656.000000</td>\n",
       "      <td>656.000000</td>\n",
       "      <td>656.000000</td>\n",
       "      <td>...</td>\n",
       "      <td>656.000000</td>\n",
       "      <td>656.000000</td>\n",
       "      <td>656.000000</td>\n",
       "      <td>656.000000</td>\n",
       "      <td>656.000000</td>\n",
       "      <td>656.000000</td>\n",
       "      <td>656.000000</td>\n",
       "      <td>656.000000</td>\n",
       "      <td>656.000000</td>\n",
       "      <td>656.000000</td>\n",
       "    </tr>\n",
       "    <tr>\n",
       "      <th>mean</th>\n",
       "      <td>0.967988</td>\n",
       "      <td>0.739329</td>\n",
       "      <td>0.844512</td>\n",
       "      <td>0.724085</td>\n",
       "      <td>0.849085</td>\n",
       "      <td>0.818598</td>\n",
       "      <td>0.452744</td>\n",
       "      <td>0.452744</td>\n",
       "      <td>0.381098</td>\n",
       "      <td>1.286585</td>\n",
       "      <td>...</td>\n",
       "      <td>1.323171</td>\n",
       "      <td>0.501524</td>\n",
       "      <td>0.658537</td>\n",
       "      <td>0.429878</td>\n",
       "      <td>0.521341</td>\n",
       "      <td>0.731707</td>\n",
       "      <td>3.778354</td>\n",
       "      <td>53.381098</td>\n",
       "      <td>23.673780</td>\n",
       "      <td>75.486280</td>\n",
       "    </tr>\n",
       "    <tr>\n",
       "      <th>std</th>\n",
       "      <td>0.176167</td>\n",
       "      <td>0.439336</td>\n",
       "      <td>0.362646</td>\n",
       "      <td>0.447315</td>\n",
       "      <td>0.358239</td>\n",
       "      <td>0.385645</td>\n",
       "      <td>0.498142</td>\n",
       "      <td>0.498142</td>\n",
       "      <td>0.486027</td>\n",
       "      <td>0.993200</td>\n",
       "      <td>...</td>\n",
       "      <td>0.777045</td>\n",
       "      <td>0.500379</td>\n",
       "      <td>0.474562</td>\n",
       "      <td>0.495436</td>\n",
       "      <td>0.499926</td>\n",
       "      <td>0.443409</td>\n",
       "      <td>0.714680</td>\n",
       "      <td>79.144594</td>\n",
       "      <td>14.501181</td>\n",
       "      <td>33.866383</td>\n",
       "    </tr>\n",
       "    <tr>\n",
       "      <th>min</th>\n",
       "      <td>0.000000</td>\n",
       "      <td>0.000000</td>\n",
       "      <td>0.000000</td>\n",
       "      <td>0.000000</td>\n",
       "      <td>0.000000</td>\n",
       "      <td>0.000000</td>\n",
       "      <td>0.000000</td>\n",
       "      <td>0.000000</td>\n",
       "      <td>0.000000</td>\n",
       "      <td>0.000000</td>\n",
       "      <td>...</td>\n",
       "      <td>0.000000</td>\n",
       "      <td>0.000000</td>\n",
       "      <td>0.000000</td>\n",
       "      <td>0.000000</td>\n",
       "      <td>0.000000</td>\n",
       "      <td>0.000000</td>\n",
       "      <td>2.500000</td>\n",
       "      <td>7.000000</td>\n",
       "      <td>1.000000</td>\n",
       "      <td>20.000000</td>\n",
       "    </tr>\n",
       "    <tr>\n",
       "      <th>25%</th>\n",
       "      <td>1.000000</td>\n",
       "      <td>0.000000</td>\n",
       "      <td>1.000000</td>\n",
       "      <td>0.000000</td>\n",
       "      <td>1.000000</td>\n",
       "      <td>1.000000</td>\n",
       "      <td>0.000000</td>\n",
       "      <td>0.000000</td>\n",
       "      <td>0.000000</td>\n",
       "      <td>0.000000</td>\n",
       "      <td>...</td>\n",
       "      <td>1.000000</td>\n",
       "      <td>0.000000</td>\n",
       "      <td>0.000000</td>\n",
       "      <td>0.000000</td>\n",
       "      <td>0.000000</td>\n",
       "      <td>0.000000</td>\n",
       "      <td>3.100000</td>\n",
       "      <td>14.000000</td>\n",
       "      <td>11.000000</td>\n",
       "      <td>48.000000</td>\n",
       "    </tr>\n",
       "    <tr>\n",
       "      <th>50%</th>\n",
       "      <td>1.000000</td>\n",
       "      <td>1.000000</td>\n",
       "      <td>1.000000</td>\n",
       "      <td>1.000000</td>\n",
       "      <td>1.000000</td>\n",
       "      <td>1.000000</td>\n",
       "      <td>0.000000</td>\n",
       "      <td>0.000000</td>\n",
       "      <td>0.000000</td>\n",
       "      <td>1.000000</td>\n",
       "      <td>...</td>\n",
       "      <td>1.000000</td>\n",
       "      <td>1.000000</td>\n",
       "      <td>1.000000</td>\n",
       "      <td>0.000000</td>\n",
       "      <td>1.000000</td>\n",
       "      <td>1.000000</td>\n",
       "      <td>3.800000</td>\n",
       "      <td>30.000000</td>\n",
       "      <td>22.000000</td>\n",
       "      <td>71.000000</td>\n",
       "    </tr>\n",
       "    <tr>\n",
       "      <th>75%</th>\n",
       "      <td>1.000000</td>\n",
       "      <td>1.000000</td>\n",
       "      <td>1.000000</td>\n",
       "      <td>1.000000</td>\n",
       "      <td>1.000000</td>\n",
       "      <td>1.000000</td>\n",
       "      <td>1.000000</td>\n",
       "      <td>1.000000</td>\n",
       "      <td>1.000000</td>\n",
       "      <td>2.000000</td>\n",
       "      <td>...</td>\n",
       "      <td>2.000000</td>\n",
       "      <td>1.000000</td>\n",
       "      <td>1.000000</td>\n",
       "      <td>1.000000</td>\n",
       "      <td>1.000000</td>\n",
       "      <td>1.000000</td>\n",
       "      <td>4.400000</td>\n",
       "      <td>90.000000</td>\n",
       "      <td>36.000000</td>\n",
       "      <td>98.000000</td>\n",
       "    </tr>\n",
       "    <tr>\n",
       "      <th>max</th>\n",
       "      <td>1.000000</td>\n",
       "      <td>1.000000</td>\n",
       "      <td>1.000000</td>\n",
       "      <td>1.000000</td>\n",
       "      <td>1.000000</td>\n",
       "      <td>1.000000</td>\n",
       "      <td>1.000000</td>\n",
       "      <td>1.000000</td>\n",
       "      <td>1.000000</td>\n",
       "      <td>3.000000</td>\n",
       "      <td>...</td>\n",
       "      <td>3.000000</td>\n",
       "      <td>1.000000</td>\n",
       "      <td>1.000000</td>\n",
       "      <td>1.000000</td>\n",
       "      <td>1.000000</td>\n",
       "      <td>1.000000</td>\n",
       "      <td>5.000000</td>\n",
       "      <td>360.000000</td>\n",
       "      <td>50.000000</td>\n",
       "      <td>150.000000</td>\n",
       "    </tr>\n",
       "  </tbody>\n",
       "</table>\n",
       "<p>8 rows × 23 columns</p>\n",
       "</div>"
      ],
      "text/plain": [
       "       Online_Consumer  Online_Service_Preference  AI_Endorsement  \\\n",
       "count       656.000000                 656.000000      656.000000   \n",
       "mean          0.967988                   0.739329        0.844512   \n",
       "std           0.176167                   0.439336        0.362646   \n",
       "min           0.000000                   0.000000        0.000000   \n",
       "25%           1.000000                   0.000000        1.000000   \n",
       "50%           1.000000                   1.000000        1.000000   \n",
       "75%           1.000000                   1.000000        1.000000   \n",
       "max           1.000000                   1.000000        1.000000   \n",
       "\n",
       "       AI_Privacy_No_Trust   AI_Enhance_Experience  AI_Satisfication  \\\n",
       "count            656.000000             656.000000        656.000000   \n",
       "mean               0.724085               0.849085          0.818598   \n",
       "std                0.447315               0.358239          0.385645   \n",
       "min                0.000000               0.000000          0.000000   \n",
       "25%                0.000000               1.000000          1.000000   \n",
       "50%                1.000000               1.000000          1.000000   \n",
       "75%                1.000000               1.000000          1.000000   \n",
       "max                1.000000               1.000000          1.000000   \n",
       "\n",
       "       AI_Tools_Used _Chatbots  AI_Tools_Used_Virtual_Assistant  \\\n",
       "count               656.000000                       656.000000   \n",
       "mean                  0.452744                         0.452744   \n",
       "std                   0.498142                         0.498142   \n",
       "min                   0.000000                         0.000000   \n",
       "25%                   0.000000                         0.000000   \n",
       "50%                   0.000000                         0.000000   \n",
       "75%                   1.000000                         1.000000   \n",
       "max                   1.000000                         1.000000   \n",
       "\n",
       "       AI_Tools_Used_Voice&Photo_Search  Number of AI Tools Used  ...  \\\n",
       "count                        656.000000               656.000000  ...   \n",
       "mean                           0.381098                 1.286585  ...   \n",
       "std                            0.486027                 0.993200  ...   \n",
       "min                            0.000000                 0.000000  ...   \n",
       "25%                            0.000000                 0.000000  ...   \n",
       "50%                            0.000000                 1.000000  ...   \n",
       "75%                            1.000000                 2.000000  ...   \n",
       "max                            1.000000                 3.000000  ...   \n",
       "\n",
       "       Number of Payment Methods Used  Product_Category_Appliances  \\\n",
       "count                      656.000000                   656.000000   \n",
       "mean                         1.323171                     0.501524   \n",
       "std                          0.777045                     0.500379   \n",
       "min                          0.000000                     0.000000   \n",
       "25%                          1.000000                     0.000000   \n",
       "50%                          1.000000                     1.000000   \n",
       "75%                          2.000000                     1.000000   \n",
       "max                          3.000000                     1.000000   \n",
       "\n",
       "       Product_Category_Electronics  Product_Category_Groceries  \\\n",
       "count                    656.000000                  656.000000   \n",
       "mean                       0.658537                    0.429878   \n",
       "std                        0.474562                    0.495436   \n",
       "min                        0.000000                    0.000000   \n",
       "25%                        0.000000                    0.000000   \n",
       "50%                        1.000000                    0.000000   \n",
       "75%                        1.000000                    1.000000   \n",
       "max                        1.000000                    1.000000   \n",
       "\n",
       "       Product_Category_Personal_Care  Product_Category_Clothing  \\\n",
       "count                      656.000000                 656.000000   \n",
       "mean                         0.521341                   0.731707   \n",
       "std                          0.499926                   0.443409   \n",
       "min                          0.000000                   0.000000   \n",
       "25%                          0.000000                   0.000000   \n",
       "50%                          1.000000                   1.000000   \n",
       "75%                          1.000000                   1.000000   \n",
       "max                          1.000000                   1.000000   \n",
       "\n",
       "       Review Rating  Frequency of Purchases (Days)  Previous Purchases  \\\n",
       "count     656.000000                     656.000000          656.000000   \n",
       "mean        3.778354                      53.381098           23.673780   \n",
       "std         0.714680                      79.144594           14.501181   \n",
       "min         2.500000                       7.000000            1.000000   \n",
       "25%         3.100000                      14.000000           11.000000   \n",
       "50%         3.800000                      30.000000           22.000000   \n",
       "75%         4.400000                      90.000000           36.000000   \n",
       "max         5.000000                     360.000000           50.000000   \n",
       "\n",
       "       Purchase Amount  \n",
       "count       656.000000  \n",
       "mean         75.486280  \n",
       "std          33.866383  \n",
       "min          20.000000  \n",
       "25%          48.000000  \n",
       "50%          71.000000  \n",
       "75%          98.000000  \n",
       "max         150.000000  \n",
       "\n",
       "[8 rows x 23 columns]"
      ]
     },
     "execution_count": 3,
     "metadata": {},
     "output_type": "execute_result"
    }
   ],
   "source": [
    "df.describe()"
   ]
  },
  {
   "cell_type": "markdown",
   "metadata": {},
   "source": [
    "Looked for any missing cells"
   ]
  },
  {
   "cell_type": "code",
   "execution_count": 4,
   "metadata": {},
   "outputs": [
    {
     "name": "stdout",
     "output_type": "stream",
     "text": [
      "Total number of empty cells: 0\n"
     ]
    }
   ],
   "source": [
    "empty_cells_count = df.isna().sum().sum()\n",
    "print(f'Total number of empty cells: {empty_cells_count}')"
   ]
  },
  {
   "cell_type": "markdown",
   "metadata": {},
   "source": [
    "Grouped using target variable - 'Segment'"
   ]
  },
  {
   "cell_type": "code",
   "execution_count": 5,
   "metadata": {},
   "outputs": [
    {
     "data": {
      "text/html": [
       "<div>\n",
       "<style scoped>\n",
       "    .dataframe tbody tr th:only-of-type {\n",
       "        vertical-align: middle;\n",
       "    }\n",
       "\n",
       "    .dataframe tbody tr th {\n",
       "        vertical-align: top;\n",
       "    }\n",
       "\n",
       "    .dataframe thead th {\n",
       "        text-align: right;\n",
       "    }\n",
       "</style>\n",
       "<table border=\"1\" class=\"dataframe\">\n",
       "  <thead>\n",
       "    <tr style=\"text-align: right;\">\n",
       "      <th></th>\n",
       "      <th>Mapping</th>\n",
       "      <th>Annual_Salary</th>\n",
       "      <th>Gender</th>\n",
       "      <th>Education</th>\n",
       "      <th>Living_Region</th>\n",
       "      <th>Age</th>\n",
       "      <th>Online_Consumer</th>\n",
       "      <th>Online_Service_Preference</th>\n",
       "      <th>AI_Endorsement</th>\n",
       "      <th>AI_Privacy_No_Trust</th>\n",
       "      <th>...</th>\n",
       "      <th>Previous Purchases</th>\n",
       "      <th>Purchase Amount</th>\n",
       "      <th>AI_Tools Applied</th>\n",
       "      <th>Item Purchased</th>\n",
       "      <th>Category</th>\n",
       "      <th>Size</th>\n",
       "      <th>Color</th>\n",
       "      <th>Season</th>\n",
       "      <th>Shipping Type</th>\n",
       "      <th>Frequency of Purchases</th>\n",
       "    </tr>\n",
       "    <tr>\n",
       "      <th>Segment</th>\n",
       "      <th></th>\n",
       "      <th></th>\n",
       "      <th></th>\n",
       "      <th></th>\n",
       "      <th></th>\n",
       "      <th></th>\n",
       "      <th></th>\n",
       "      <th></th>\n",
       "      <th></th>\n",
       "      <th></th>\n",
       "      <th></th>\n",
       "      <th></th>\n",
       "      <th></th>\n",
       "      <th></th>\n",
       "      <th></th>\n",
       "      <th></th>\n",
       "      <th></th>\n",
       "      <th></th>\n",
       "      <th></th>\n",
       "      <th></th>\n",
       "      <th></th>\n",
       "    </tr>\n",
       "  </thead>\n",
       "  <tbody>\n",
       "    <tr>\n",
       "      <th>Female_Baby Boomers_Metropolitan_High</th>\n",
       "      <td>4</td>\n",
       "      <td>4</td>\n",
       "      <td>4</td>\n",
       "      <td>4</td>\n",
       "      <td>4</td>\n",
       "      <td>4</td>\n",
       "      <td>4</td>\n",
       "      <td>4</td>\n",
       "      <td>4</td>\n",
       "      <td>4</td>\n",
       "      <td>...</td>\n",
       "      <td>4</td>\n",
       "      <td>4</td>\n",
       "      <td>4</td>\n",
       "      <td>4</td>\n",
       "      <td>4</td>\n",
       "      <td>4</td>\n",
       "      <td>4</td>\n",
       "      <td>4</td>\n",
       "      <td>4</td>\n",
       "      <td>4</td>\n",
       "    </tr>\n",
       "    <tr>\n",
       "      <th>Female_Baby Boomers_Metropolitan_Medium High</th>\n",
       "      <td>1</td>\n",
       "      <td>1</td>\n",
       "      <td>1</td>\n",
       "      <td>1</td>\n",
       "      <td>1</td>\n",
       "      <td>1</td>\n",
       "      <td>1</td>\n",
       "      <td>1</td>\n",
       "      <td>1</td>\n",
       "      <td>1</td>\n",
       "      <td>...</td>\n",
       "      <td>1</td>\n",
       "      <td>1</td>\n",
       "      <td>1</td>\n",
       "      <td>1</td>\n",
       "      <td>1</td>\n",
       "      <td>1</td>\n",
       "      <td>1</td>\n",
       "      <td>1</td>\n",
       "      <td>1</td>\n",
       "      <td>1</td>\n",
       "    </tr>\n",
       "    <tr>\n",
       "      <th>Female_Baby Boomers_Rural Areas_High</th>\n",
       "      <td>1</td>\n",
       "      <td>1</td>\n",
       "      <td>1</td>\n",
       "      <td>1</td>\n",
       "      <td>1</td>\n",
       "      <td>1</td>\n",
       "      <td>1</td>\n",
       "      <td>1</td>\n",
       "      <td>1</td>\n",
       "      <td>1</td>\n",
       "      <td>...</td>\n",
       "      <td>1</td>\n",
       "      <td>1</td>\n",
       "      <td>1</td>\n",
       "      <td>1</td>\n",
       "      <td>1</td>\n",
       "      <td>1</td>\n",
       "      <td>1</td>\n",
       "      <td>1</td>\n",
       "      <td>1</td>\n",
       "      <td>1</td>\n",
       "    </tr>\n",
       "    <tr>\n",
       "      <th>Female_Baby Boomers_Suburban Areas_High</th>\n",
       "      <td>1</td>\n",
       "      <td>1</td>\n",
       "      <td>1</td>\n",
       "      <td>1</td>\n",
       "      <td>1</td>\n",
       "      <td>1</td>\n",
       "      <td>1</td>\n",
       "      <td>1</td>\n",
       "      <td>1</td>\n",
       "      <td>1</td>\n",
       "      <td>...</td>\n",
       "      <td>1</td>\n",
       "      <td>1</td>\n",
       "      <td>1</td>\n",
       "      <td>1</td>\n",
       "      <td>1</td>\n",
       "      <td>1</td>\n",
       "      <td>1</td>\n",
       "      <td>1</td>\n",
       "      <td>1</td>\n",
       "      <td>1</td>\n",
       "    </tr>\n",
       "    <tr>\n",
       "      <th>Female_Gen X_Metropolitan_High</th>\n",
       "      <td>30</td>\n",
       "      <td>30</td>\n",
       "      <td>30</td>\n",
       "      <td>30</td>\n",
       "      <td>30</td>\n",
       "      <td>30</td>\n",
       "      <td>30</td>\n",
       "      <td>30</td>\n",
       "      <td>30</td>\n",
       "      <td>30</td>\n",
       "      <td>...</td>\n",
       "      <td>30</td>\n",
       "      <td>30</td>\n",
       "      <td>30</td>\n",
       "      <td>30</td>\n",
       "      <td>30</td>\n",
       "      <td>30</td>\n",
       "      <td>30</td>\n",
       "      <td>30</td>\n",
       "      <td>30</td>\n",
       "      <td>30</td>\n",
       "    </tr>\n",
       "    <tr>\n",
       "      <th>...</th>\n",
       "      <td>...</td>\n",
       "      <td>...</td>\n",
       "      <td>...</td>\n",
       "      <td>...</td>\n",
       "      <td>...</td>\n",
       "      <td>...</td>\n",
       "      <td>...</td>\n",
       "      <td>...</td>\n",
       "      <td>...</td>\n",
       "      <td>...</td>\n",
       "      <td>...</td>\n",
       "      <td>...</td>\n",
       "      <td>...</td>\n",
       "      <td>...</td>\n",
       "      <td>...</td>\n",
       "      <td>...</td>\n",
       "      <td>...</td>\n",
       "      <td>...</td>\n",
       "      <td>...</td>\n",
       "      <td>...</td>\n",
       "      <td>...</td>\n",
       "    </tr>\n",
       "    <tr>\n",
       "      <th>Male_Millennials_Rural Areas_Medium High</th>\n",
       "      <td>4</td>\n",
       "      <td>4</td>\n",
       "      <td>4</td>\n",
       "      <td>4</td>\n",
       "      <td>4</td>\n",
       "      <td>4</td>\n",
       "      <td>4</td>\n",
       "      <td>4</td>\n",
       "      <td>4</td>\n",
       "      <td>4</td>\n",
       "      <td>...</td>\n",
       "      <td>4</td>\n",
       "      <td>4</td>\n",
       "      <td>4</td>\n",
       "      <td>4</td>\n",
       "      <td>4</td>\n",
       "      <td>4</td>\n",
       "      <td>4</td>\n",
       "      <td>4</td>\n",
       "      <td>4</td>\n",
       "      <td>4</td>\n",
       "    </tr>\n",
       "    <tr>\n",
       "      <th>Male_Millennials_Suburban Areas_High</th>\n",
       "      <td>12</td>\n",
       "      <td>12</td>\n",
       "      <td>12</td>\n",
       "      <td>12</td>\n",
       "      <td>12</td>\n",
       "      <td>12</td>\n",
       "      <td>12</td>\n",
       "      <td>12</td>\n",
       "      <td>12</td>\n",
       "      <td>12</td>\n",
       "      <td>...</td>\n",
       "      <td>12</td>\n",
       "      <td>12</td>\n",
       "      <td>12</td>\n",
       "      <td>12</td>\n",
       "      <td>12</td>\n",
       "      <td>12</td>\n",
       "      <td>12</td>\n",
       "      <td>12</td>\n",
       "      <td>12</td>\n",
       "      <td>12</td>\n",
       "    </tr>\n",
       "    <tr>\n",
       "      <th>Male_Millennials_Suburban Areas_Medium</th>\n",
       "      <td>8</td>\n",
       "      <td>8</td>\n",
       "      <td>8</td>\n",
       "      <td>8</td>\n",
       "      <td>8</td>\n",
       "      <td>8</td>\n",
       "      <td>8</td>\n",
       "      <td>8</td>\n",
       "      <td>8</td>\n",
       "      <td>8</td>\n",
       "      <td>...</td>\n",
       "      <td>8</td>\n",
       "      <td>8</td>\n",
       "      <td>8</td>\n",
       "      <td>8</td>\n",
       "      <td>8</td>\n",
       "      <td>8</td>\n",
       "      <td>8</td>\n",
       "      <td>8</td>\n",
       "      <td>8</td>\n",
       "      <td>8</td>\n",
       "    </tr>\n",
       "    <tr>\n",
       "      <th>Male_Millennials_Suburban Areas_Medium High</th>\n",
       "      <td>13</td>\n",
       "      <td>13</td>\n",
       "      <td>13</td>\n",
       "      <td>13</td>\n",
       "      <td>13</td>\n",
       "      <td>13</td>\n",
       "      <td>13</td>\n",
       "      <td>13</td>\n",
       "      <td>13</td>\n",
       "      <td>13</td>\n",
       "      <td>...</td>\n",
       "      <td>13</td>\n",
       "      <td>13</td>\n",
       "      <td>13</td>\n",
       "      <td>13</td>\n",
       "      <td>13</td>\n",
       "      <td>13</td>\n",
       "      <td>13</td>\n",
       "      <td>13</td>\n",
       "      <td>13</td>\n",
       "      <td>13</td>\n",
       "    </tr>\n",
       "    <tr>\n",
       "      <th>Prefer 0t to say_Gen Z_Metropolitan_Low</th>\n",
       "      <td>1</td>\n",
       "      <td>1</td>\n",
       "      <td>1</td>\n",
       "      <td>1</td>\n",
       "      <td>1</td>\n",
       "      <td>1</td>\n",
       "      <td>1</td>\n",
       "      <td>1</td>\n",
       "      <td>1</td>\n",
       "      <td>1</td>\n",
       "      <td>...</td>\n",
       "      <td>1</td>\n",
       "      <td>1</td>\n",
       "      <td>1</td>\n",
       "      <td>1</td>\n",
       "      <td>1</td>\n",
       "      <td>1</td>\n",
       "      <td>1</td>\n",
       "      <td>1</td>\n",
       "      <td>1</td>\n",
       "      <td>1</td>\n",
       "    </tr>\n",
       "  </tbody>\n",
       "</table>\n",
       "<p>76 rows × 37 columns</p>\n",
       "</div>"
      ],
      "text/plain": [
       "                                              Mapping  Annual_Salary  Gender  \\\n",
       "Segment                                                                        \n",
       "Female_Baby Boomers_Metropolitan_High               4              4       4   \n",
       "Female_Baby Boomers_Metropolitan_Medium High        1              1       1   \n",
       "Female_Baby Boomers_Rural Areas_High                1              1       1   \n",
       "Female_Baby Boomers_Suburban Areas_High             1              1       1   \n",
       "Female_Gen X_Metropolitan_High                     30             30      30   \n",
       "...                                               ...            ...     ...   \n",
       "Male_Millennials_Rural Areas_Medium High            4              4       4   \n",
       "Male_Millennials_Suburban Areas_High               12             12      12   \n",
       "Male_Millennials_Suburban Areas_Medium              8              8       8   \n",
       "Male_Millennials_Suburban Areas_Medium High        13             13      13   \n",
       "Prefer 0t to say_Gen Z_Metropolitan_Low             1              1       1   \n",
       "\n",
       "                                              Education  Living_Region  Age  \\\n",
       "Segment                                                                       \n",
       "Female_Baby Boomers_Metropolitan_High                 4              4    4   \n",
       "Female_Baby Boomers_Metropolitan_Medium High          1              1    1   \n",
       "Female_Baby Boomers_Rural Areas_High                  1              1    1   \n",
       "Female_Baby Boomers_Suburban Areas_High               1              1    1   \n",
       "Female_Gen X_Metropolitan_High                       30             30   30   \n",
       "...                                                 ...            ...  ...   \n",
       "Male_Millennials_Rural Areas_Medium High              4              4    4   \n",
       "Male_Millennials_Suburban Areas_High                 12             12   12   \n",
       "Male_Millennials_Suburban Areas_Medium                8              8    8   \n",
       "Male_Millennials_Suburban Areas_Medium High          13             13   13   \n",
       "Prefer 0t to say_Gen Z_Metropolitan_Low               1              1    1   \n",
       "\n",
       "                                              Online_Consumer  \\\n",
       "Segment                                                         \n",
       "Female_Baby Boomers_Metropolitan_High                       4   \n",
       "Female_Baby Boomers_Metropolitan_Medium High                1   \n",
       "Female_Baby Boomers_Rural Areas_High                        1   \n",
       "Female_Baby Boomers_Suburban Areas_High                     1   \n",
       "Female_Gen X_Metropolitan_High                             30   \n",
       "...                                                       ...   \n",
       "Male_Millennials_Rural Areas_Medium High                    4   \n",
       "Male_Millennials_Suburban Areas_High                       12   \n",
       "Male_Millennials_Suburban Areas_Medium                      8   \n",
       "Male_Millennials_Suburban Areas_Medium High                13   \n",
       "Prefer 0t to say_Gen Z_Metropolitan_Low                     1   \n",
       "\n",
       "                                              Online_Service_Preference  \\\n",
       "Segment                                                                   \n",
       "Female_Baby Boomers_Metropolitan_High                                 4   \n",
       "Female_Baby Boomers_Metropolitan_Medium High                          1   \n",
       "Female_Baby Boomers_Rural Areas_High                                  1   \n",
       "Female_Baby Boomers_Suburban Areas_High                               1   \n",
       "Female_Gen X_Metropolitan_High                                       30   \n",
       "...                                                                 ...   \n",
       "Male_Millennials_Rural Areas_Medium High                              4   \n",
       "Male_Millennials_Suburban Areas_High                                 12   \n",
       "Male_Millennials_Suburban Areas_Medium                                8   \n",
       "Male_Millennials_Suburban Areas_Medium High                          13   \n",
       "Prefer 0t to say_Gen Z_Metropolitan_Low                               1   \n",
       "\n",
       "                                              AI_Endorsement  \\\n",
       "Segment                                                        \n",
       "Female_Baby Boomers_Metropolitan_High                      4   \n",
       "Female_Baby Boomers_Metropolitan_Medium High               1   \n",
       "Female_Baby Boomers_Rural Areas_High                       1   \n",
       "Female_Baby Boomers_Suburban Areas_High                    1   \n",
       "Female_Gen X_Metropolitan_High                            30   \n",
       "...                                                      ...   \n",
       "Male_Millennials_Rural Areas_Medium High                   4   \n",
       "Male_Millennials_Suburban Areas_High                      12   \n",
       "Male_Millennials_Suburban Areas_Medium                     8   \n",
       "Male_Millennials_Suburban Areas_Medium High               13   \n",
       "Prefer 0t to say_Gen Z_Metropolitan_Low                    1   \n",
       "\n",
       "                                              AI_Privacy_No_Trust   ...  \\\n",
       "Segment                                                             ...   \n",
       "Female_Baby Boomers_Metropolitan_High                            4  ...   \n",
       "Female_Baby Boomers_Metropolitan_Medium High                     1  ...   \n",
       "Female_Baby Boomers_Rural Areas_High                             1  ...   \n",
       "Female_Baby Boomers_Suburban Areas_High                          1  ...   \n",
       "Female_Gen X_Metropolitan_High                                  30  ...   \n",
       "...                                                            ...  ...   \n",
       "Male_Millennials_Rural Areas_Medium High                         4  ...   \n",
       "Male_Millennials_Suburban Areas_High                            12  ...   \n",
       "Male_Millennials_Suburban Areas_Medium                           8  ...   \n",
       "Male_Millennials_Suburban Areas_Medium High                     13  ...   \n",
       "Prefer 0t to say_Gen Z_Metropolitan_Low                          1  ...   \n",
       "\n",
       "                                              Previous Purchases  \\\n",
       "Segment                                                            \n",
       "Female_Baby Boomers_Metropolitan_High                          4   \n",
       "Female_Baby Boomers_Metropolitan_Medium High                   1   \n",
       "Female_Baby Boomers_Rural Areas_High                           1   \n",
       "Female_Baby Boomers_Suburban Areas_High                        1   \n",
       "Female_Gen X_Metropolitan_High                                30   \n",
       "...                                                          ...   \n",
       "Male_Millennials_Rural Areas_Medium High                       4   \n",
       "Male_Millennials_Suburban Areas_High                          12   \n",
       "Male_Millennials_Suburban Areas_Medium                         8   \n",
       "Male_Millennials_Suburban Areas_Medium High                   13   \n",
       "Prefer 0t to say_Gen Z_Metropolitan_Low                        1   \n",
       "\n",
       "                                              Purchase Amount  \\\n",
       "Segment                                                         \n",
       "Female_Baby Boomers_Metropolitan_High                       4   \n",
       "Female_Baby Boomers_Metropolitan_Medium High                1   \n",
       "Female_Baby Boomers_Rural Areas_High                        1   \n",
       "Female_Baby Boomers_Suburban Areas_High                     1   \n",
       "Female_Gen X_Metropolitan_High                             30   \n",
       "...                                                       ...   \n",
       "Male_Millennials_Rural Areas_Medium High                    4   \n",
       "Male_Millennials_Suburban Areas_High                       12   \n",
       "Male_Millennials_Suburban Areas_Medium                      8   \n",
       "Male_Millennials_Suburban Areas_Medium High                13   \n",
       "Prefer 0t to say_Gen Z_Metropolitan_Low                     1   \n",
       "\n",
       "                                              AI_Tools Applied  \\\n",
       "Segment                                                          \n",
       "Female_Baby Boomers_Metropolitan_High                        4   \n",
       "Female_Baby Boomers_Metropolitan_Medium High                 1   \n",
       "Female_Baby Boomers_Rural Areas_High                         1   \n",
       "Female_Baby Boomers_Suburban Areas_High                      1   \n",
       "Female_Gen X_Metropolitan_High                              30   \n",
       "...                                                        ...   \n",
       "Male_Millennials_Rural Areas_Medium High                     4   \n",
       "Male_Millennials_Suburban Areas_High                        12   \n",
       "Male_Millennials_Suburban Areas_Medium                       8   \n",
       "Male_Millennials_Suburban Areas_Medium High                 13   \n",
       "Prefer 0t to say_Gen Z_Metropolitan_Low                      1   \n",
       "\n",
       "                                              Item Purchased  Category  Size  \\\n",
       "Segment                                                                        \n",
       "Female_Baby Boomers_Metropolitan_High                      4         4     4   \n",
       "Female_Baby Boomers_Metropolitan_Medium High               1         1     1   \n",
       "Female_Baby Boomers_Rural Areas_High                       1         1     1   \n",
       "Female_Baby Boomers_Suburban Areas_High                    1         1     1   \n",
       "Female_Gen X_Metropolitan_High                            30        30    30   \n",
       "...                                                      ...       ...   ...   \n",
       "Male_Millennials_Rural Areas_Medium High                   4         4     4   \n",
       "Male_Millennials_Suburban Areas_High                      12        12    12   \n",
       "Male_Millennials_Suburban Areas_Medium                     8         8     8   \n",
       "Male_Millennials_Suburban Areas_Medium High               13        13    13   \n",
       "Prefer 0t to say_Gen Z_Metropolitan_Low                    1         1     1   \n",
       "\n",
       "                                              Color  Season  Shipping Type  \\\n",
       "Segment                                                                      \n",
       "Female_Baby Boomers_Metropolitan_High             4       4              4   \n",
       "Female_Baby Boomers_Metropolitan_Medium High      1       1              1   \n",
       "Female_Baby Boomers_Rural Areas_High              1       1              1   \n",
       "Female_Baby Boomers_Suburban Areas_High           1       1              1   \n",
       "Female_Gen X_Metropolitan_High                   30      30             30   \n",
       "...                                             ...     ...            ...   \n",
       "Male_Millennials_Rural Areas_Medium High          4       4              4   \n",
       "Male_Millennials_Suburban Areas_High             12      12             12   \n",
       "Male_Millennials_Suburban Areas_Medium            8       8              8   \n",
       "Male_Millennials_Suburban Areas_Medium High      13      13             13   \n",
       "Prefer 0t to say_Gen Z_Metropolitan_Low           1       1              1   \n",
       "\n",
       "                                              Frequency of Purchases  \n",
       "Segment                                                               \n",
       "Female_Baby Boomers_Metropolitan_High                              4  \n",
       "Female_Baby Boomers_Metropolitan_Medium High                       1  \n",
       "Female_Baby Boomers_Rural Areas_High                               1  \n",
       "Female_Baby Boomers_Suburban Areas_High                            1  \n",
       "Female_Gen X_Metropolitan_High                                    30  \n",
       "...                                                              ...  \n",
       "Male_Millennials_Rural Areas_Medium High                           4  \n",
       "Male_Millennials_Suburban Areas_High                              12  \n",
       "Male_Millennials_Suburban Areas_Medium                             8  \n",
       "Male_Millennials_Suburban Areas_Medium High                       13  \n",
       "Prefer 0t to say_Gen Z_Metropolitan_Low                            1  \n",
       "\n",
       "[76 rows x 37 columns]"
      ]
     },
     "execution_count": 5,
     "metadata": {},
     "output_type": "execute_result"
    }
   ],
   "source": [
    "df.groupby('Segment').count()"
   ]
  },
  {
   "cell_type": "markdown",
   "metadata": {},
   "source": [
    "Did a count of how many data records match each target label - I engineered the 'Segment' & the 'Mapping' attribute. I describe the process in my report"
   ]
  },
  {
   "cell_type": "code",
   "execution_count": 6,
   "metadata": {},
   "outputs": [
    {
     "data": {
      "text/plain": [
       "Segment\n",
       "Female_Millennials_Metropolitan_High           64\n",
       "Male_Millennials_Metropolitan_High             32\n",
       "Male_Millennials_Metropolitan_Medium           32\n",
       "Female_Gen X_Metropolitan_High                 30\n",
       "Female_Millennials_Metropolitan_Medium High    30\n",
       "                                               ..\n",
       "Male_Gen X_Suburban Areas_Medium                1\n",
       "Male_Gen Z_Rural Areas_High                     1\n",
       "Male_Gen Z_Suburban Areas_High                  1\n",
       "Male_Gen Z_Rural Areas_Medium High              1\n",
       "Prefer 0t to say_Gen Z_Metropolitan_Low         1\n",
       "Name: count, Length: 76, dtype: int64"
      ]
     },
     "execution_count": 6,
     "metadata": {},
     "output_type": "execute_result"
    }
   ],
   "source": [
    "df['Segment'].value_counts()"
   ]
  },
  {
   "cell_type": "code",
   "execution_count": 7,
   "metadata": {},
   "outputs": [
    {
     "data": {
      "text/plain": [
       "Mapping\n",
       "Female_Millennials        201\n",
       "Male_Millennials          165\n",
       "Female_Gen X               88\n",
       "Female_Gen Z               65\n",
       "Male_Gen Z                 61\n",
       "Male_Gen X                 51\n",
       "Male_Baby Boomers          17\n",
       "Female_Baby Boomers         7\n",
       "Prefer 0t to say_Gen Z      1\n",
       "Name: count, dtype: int64"
      ]
     },
     "execution_count": 7,
     "metadata": {},
     "output_type": "execute_result"
    }
   ],
   "source": [
    "df['Mapping'].value_counts()"
   ]
  },
  {
   "cell_type": "markdown",
   "metadata": {},
   "source": [
    "This is where I resample the data to improve the model performance. I can increase the amount of synthetic data as needed."
   ]
  },
  {
   "cell_type": "code",
   "execution_count": 8,
   "metadata": {},
   "outputs": [
    {
     "name": "stdout",
     "output_type": "stream",
     "text": [
      "Original dataset size: 656\n",
      "Bootstrapped dataset size: 2624\n"
     ]
    },
    {
     "data": {
      "text/html": [
       "<div>\n",
       "<style scoped>\n",
       "    .dataframe tbody tr th:only-of-type {\n",
       "        vertical-align: middle;\n",
       "    }\n",
       "\n",
       "    .dataframe tbody tr th {\n",
       "        vertical-align: top;\n",
       "    }\n",
       "\n",
       "    .dataframe thead th {\n",
       "        text-align: right;\n",
       "    }\n",
       "</style>\n",
       "<table border=\"1\" class=\"dataframe\">\n",
       "  <thead>\n",
       "    <tr style=\"text-align: right;\">\n",
       "      <th></th>\n",
       "      <th>Segment</th>\n",
       "      <th>Mapping</th>\n",
       "      <th>Annual_Salary</th>\n",
       "      <th>Gender</th>\n",
       "      <th>Education</th>\n",
       "      <th>Living_Region</th>\n",
       "      <th>Age</th>\n",
       "      <th>Online_Consumer</th>\n",
       "      <th>Online_Service_Preference</th>\n",
       "      <th>AI_Endorsement</th>\n",
       "      <th>...</th>\n",
       "      <th>Previous Purchases</th>\n",
       "      <th>Purchase Amount</th>\n",
       "      <th>AI_Tools Applied</th>\n",
       "      <th>Item Purchased</th>\n",
       "      <th>Category</th>\n",
       "      <th>Size</th>\n",
       "      <th>Color</th>\n",
       "      <th>Season</th>\n",
       "      <th>Shipping Type</th>\n",
       "      <th>Frequency of Purchases</th>\n",
       "    </tr>\n",
       "  </thead>\n",
       "  <tbody>\n",
       "    <tr>\n",
       "      <th>483</th>\n",
       "      <td>Male_Gen Z_Metropolitan_Medium High</td>\n",
       "      <td>Male_Gen Z</td>\n",
       "      <td>Medium High</td>\n",
       "      <td>Male</td>\n",
       "      <td>University Graduate</td>\n",
       "      <td>Metropolitan</td>\n",
       "      <td>Gen Z</td>\n",
       "      <td>1</td>\n",
       "      <td>1</td>\n",
       "      <td>0</td>\n",
       "      <td>...</td>\n",
       "      <td>41</td>\n",
       "      <td>52.0</td>\n",
       "      <td>Yes</td>\n",
       "      <td>Pants</td>\n",
       "      <td>Clothing</td>\n",
       "      <td>S</td>\n",
       "      <td>Silver</td>\n",
       "      <td>Spring</td>\n",
       "      <td>Free Shipping</td>\n",
       "      <td>Quarterly</td>\n",
       "    </tr>\n",
       "    <tr>\n",
       "      <th>61</th>\n",
       "      <td>Female_Gen X_Suburban Areas_Medium High</td>\n",
       "      <td>Female_Gen X</td>\n",
       "      <td>Medium High</td>\n",
       "      <td>Female</td>\n",
       "      <td>University Graduate</td>\n",
       "      <td>Suburban Areas</td>\n",
       "      <td>Gen X</td>\n",
       "      <td>1</td>\n",
       "      <td>1</td>\n",
       "      <td>1</td>\n",
       "      <td>...</td>\n",
       "      <td>12</td>\n",
       "      <td>61.5</td>\n",
       "      <td>Yes</td>\n",
       "      <td>Dress</td>\n",
       "      <td>Clothing</td>\n",
       "      <td>M</td>\n",
       "      <td>Purple</td>\n",
       "      <td>Fall</td>\n",
       "      <td>Store Pickup</td>\n",
       "      <td>Every 3 Months</td>\n",
       "    </tr>\n",
       "    <tr>\n",
       "      <th>226</th>\n",
       "      <td>Female_Millennials_Metropolitan_High</td>\n",
       "      <td>Female_Millennials</td>\n",
       "      <td>High</td>\n",
       "      <td>Female</td>\n",
       "      <td>Masters? Degree</td>\n",
       "      <td>Metropolitan</td>\n",
       "      <td>Millennials</td>\n",
       "      <td>1</td>\n",
       "      <td>1</td>\n",
       "      <td>1</td>\n",
       "      <td>...</td>\n",
       "      <td>5</td>\n",
       "      <td>63.0</td>\n",
       "      <td>Yes</td>\n",
       "      <td>Jeans</td>\n",
       "      <td>Clothing</td>\n",
       "      <td>M</td>\n",
       "      <td>Turquoise</td>\n",
       "      <td>Spring</td>\n",
       "      <td>Express</td>\n",
       "      <td>Fortnightly</td>\n",
       "    </tr>\n",
       "    <tr>\n",
       "      <th>467</th>\n",
       "      <td>Male_Gen Z_Metropolitan_High</td>\n",
       "      <td>Male_Gen Z</td>\n",
       "      <td>High</td>\n",
       "      <td>Male</td>\n",
       "      <td>Highschool Graduate</td>\n",
       "      <td>Metropolitan</td>\n",
       "      <td>Gen Z</td>\n",
       "      <td>1</td>\n",
       "      <td>1</td>\n",
       "      <td>1</td>\n",
       "      <td>...</td>\n",
       "      <td>15</td>\n",
       "      <td>74.0</td>\n",
       "      <td>Yes</td>\n",
       "      <td>Shirt</td>\n",
       "      <td>Clothing</td>\n",
       "      <td>M</td>\n",
       "      <td>Silver</td>\n",
       "      <td>Summer</td>\n",
       "      <td>Store Pickup</td>\n",
       "      <td>Monthly</td>\n",
       "    </tr>\n",
       "    <tr>\n",
       "      <th>469</th>\n",
       "      <td>Male_Gen Z_Suburban Areas_Low</td>\n",
       "      <td>Male_Gen Z</td>\n",
       "      <td>Low</td>\n",
       "      <td>Male</td>\n",
       "      <td>Highschool Graduate</td>\n",
       "      <td>Suburban Areas</td>\n",
       "      <td>Gen Z</td>\n",
       "      <td>1</td>\n",
       "      <td>0</td>\n",
       "      <td>1</td>\n",
       "      <td>...</td>\n",
       "      <td>2</td>\n",
       "      <td>49.0</td>\n",
       "      <td>Yes</td>\n",
       "      <td>Gloves</td>\n",
       "      <td>Accessories</td>\n",
       "      <td>L</td>\n",
       "      <td>Peach</td>\n",
       "      <td>Winter</td>\n",
       "      <td>Next Day Air</td>\n",
       "      <td>Monthly</td>\n",
       "    </tr>\n",
       "  </tbody>\n",
       "</table>\n",
       "<p>5 rows × 38 columns</p>\n",
       "</div>"
      ],
      "text/plain": [
       "                                     Segment             Mapping  \\\n",
       "483      Male_Gen Z_Metropolitan_Medium High          Male_Gen Z   \n",
       "61   Female_Gen X_Suburban Areas_Medium High        Female_Gen X   \n",
       "226     Female_Millennials_Metropolitan_High  Female_Millennials   \n",
       "467             Male_Gen Z_Metropolitan_High          Male_Gen Z   \n",
       "469            Male_Gen Z_Suburban Areas_Low          Male_Gen Z   \n",
       "\n",
       "    Annual_Salary  Gender            Education   Living_Region          Age  \\\n",
       "483   Medium High    Male  University Graduate    Metropolitan        Gen Z   \n",
       "61    Medium High  Female  University Graduate  Suburban Areas        Gen X   \n",
       "226          High  Female      Masters? Degree    Metropolitan  Millennials   \n",
       "467          High    Male  Highschool Graduate    Metropolitan        Gen Z   \n",
       "469           Low    Male  Highschool Graduate  Suburban Areas        Gen Z   \n",
       "\n",
       "     Online_Consumer  Online_Service_Preference  AI_Endorsement  ...  \\\n",
       "483                1                          1               0  ...   \n",
       "61                 1                          1               1  ...   \n",
       "226                1                          1               1  ...   \n",
       "467                1                          1               1  ...   \n",
       "469                1                          0               1  ...   \n",
       "\n",
       "     Previous Purchases  Purchase Amount  AI_Tools Applied  Item Purchased  \\\n",
       "483                  41             52.0               Yes           Pants   \n",
       "61                   12             61.5               Yes           Dress   \n",
       "226                   5             63.0               Yes           Jeans   \n",
       "467                  15             74.0               Yes           Shirt   \n",
       "469                   2             49.0               Yes          Gloves   \n",
       "\n",
       "        Category  Size      Color  Season  Shipping Type  \\\n",
       "483     Clothing     S     Silver  Spring  Free Shipping   \n",
       "61      Clothing     M     Purple    Fall   Store Pickup   \n",
       "226     Clothing     M  Turquoise  Spring        Express   \n",
       "467     Clothing     M     Silver  Summer   Store Pickup   \n",
       "469  Accessories     L      Peach  Winter   Next Day Air   \n",
       "\n",
       "     Frequency of Purchases  \n",
       "483               Quarterly  \n",
       "61           Every 3 Months  \n",
       "226             Fortnightly  \n",
       "467                 Monthly  \n",
       "469                 Monthly  \n",
       "\n",
       "[5 rows x 38 columns]"
      ]
     },
     "execution_count": 8,
     "metadata": {},
     "output_type": "execute_result"
    }
   ],
   "source": [
    "# Use resampling to increase the size of the dataset fourfold\n",
    "df_bootstrapped = df.sample(n=len(df) * 4, replace=True, random_state=1)\n",
    "\n",
    "# show the original dataset size & the new dataset size\n",
    "print(f\"Original dataset size: {len(df)}\")\n",
    "print(f\"Bootstrapped dataset size: {len(df_bootstrapped)}\")\n",
    "df_bootstrapped.tail()"
   ]
  },
  {
   "cell_type": "markdown",
   "metadata": {},
   "source": [
    "Reviewing column names for the dataset"
   ]
  },
  {
   "cell_type": "code",
   "execution_count": 9,
   "metadata": {},
   "outputs": [
    {
     "name": "stdout",
     "output_type": "stream",
     "text": [
      "Index(['Segment', 'Mapping', 'Annual_Salary', 'Gender', 'Education',\n",
      "       'Living_Region', 'Age', 'Online_Consumer', 'Online_Service_Preference',\n",
      "       'AI_Endorsement', 'AI_Privacy_No_Trust ', 'AI_Enhance_Experience',\n",
      "       'AI_Satisfication', 'AI_Tools_Used _Chatbots',\n",
      "       'AI_Tools_Used_Virtual_Assistant', 'AI_Tools_Used_Voice&Photo_Search',\n",
      "       'Number of AI Tools Used', 'Payment_Method_Credit/Debit',\n",
      "       'Payment_Method_COD', 'Payment_Method_Ewallet',\n",
      "       'Number of Payment Methods Used', 'Product_Category_Appliances',\n",
      "       'Product_Category_Electronics', 'Product_Category_Groceries',\n",
      "       'Product_Category_Personal_Care', 'Product_Category_Clothing',\n",
      "       'Review Rating', 'Frequency of Purchases (Days)', 'Previous Purchases',\n",
      "       'Purchase Amount', 'AI_Tools Applied', 'Item Purchased', 'Category',\n",
      "       'Size', 'Color', 'Season', 'Shipping Type', 'Frequency of Purchases'],\n",
      "      dtype='object')\n"
     ]
    }
   ],
   "source": [
    "columns = df_bootstrapped.columns\n",
    "print(columns)\n"
   ]
  },
  {
   "cell_type": "markdown",
   "metadata": {
    "id": "TmTcO33CsprL"
   },
   "source": [
    "I have created feature and target variables for a train/ test split so I can assess feature importance and evaluate the Decision Tree Classifier model"
   ]
  },
  {
   "cell_type": "code",
   "execution_count": 10,
   "metadata": {},
   "outputs": [],
   "source": [
    "import pandas as pd\n",
    "import pandas as pd\n",
    "from sklearn.preprocessing import LabelEncoder\n",
    "from sklearn.model_selection import train_test_split\n",
    "from sklearn.tree import DecisionTreeClassifier\n",
    "from sklearn.metrics import accuracy_score, classification_report\n",
    "\n",
    "# Create a set of features\n",
    "segment_data_feature_data = df_bootstrapped[['Online_Consumer', 'Online_Service_Preference',\n",
    "       'AI_Endorsement', 'AI_Privacy_No_Trust ', 'AI_Enhance_Experience',\n",
    "       'AI_Satisfication', 'AI_Tools_Used _Chatbots',\n",
    "       'AI_Tools_Used_Virtual_Assistant', 'AI_Tools_Used_Voice&Photo_Search',\n",
    "       'Number of AI Tools Used', 'Payment_Method_Credit/Debit',\n",
    "       'Payment_Method_COD', 'Payment_Method_Ewallet',\n",
    "       'Number of Payment Methods Used', 'Product_Category_Appliances',\n",
    "       'Product_Category_Electronics', 'Product_Category_Groceries',\n",
    "       'Product_Category_Personal_Care', 'Product_Category_Clothing',\n",
    "       'Review Rating', 'Frequency of Purchases (Days)', 'Previous Purchases',\n",
    "       'Purchase Amount']]\n",
    "X = segment_data_feature_data\n",
    "\n",
    "# Select a target variable\n",
    "segment_data_target_data = df_bootstrapped[['Segment']]\n",
    "y = segment_data_target_data\n",
    "\n",
    "# specify the train test split\n",
    "X_train, X_test, y_train, y_test = train_test_split(X, y, test_size=0.3, random_state=42)\n",
    "clf = DecisionTreeClassifier()\n",
    "clf.fit(X_train, y_train)\n",
    "y_pred = clf.predict(X_test)"
   ]
  },
  {
   "cell_type": "markdown",
   "metadata": {},
   "source": [
    "Assessing the accuracy of the Decision Tree Classifier model"
   ]
  },
  {
   "cell_type": "code",
   "execution_count": 11,
   "metadata": {},
   "outputs": [
    {
     "name": "stdout",
     "output_type": "stream",
     "text": [
      "Accuracy: 0.9365482233502538\n",
      "Classification Report:\n",
      "                                                precision    recall  f1-score   support\n",
      "\n",
      "        Female_Baby Boomers_Metropolitan_High       1.00      0.67      0.80         3\n",
      " Female_Baby Boomers_Metropolitan_Medium High       1.00      1.00      1.00         2\n",
      "         Female_Baby Boomers_Rural Areas_High       1.00      1.00      1.00         1\n",
      "               Female_Gen X_Metropolitan_High       0.86      0.95      0.90        38\n",
      "                Female_Gen X_Metropolitan_Low       1.00      1.00      1.00         5\n",
      "             Female_Gen X_Metropolitan_Medium       1.00      1.00      1.00         1\n",
      "        Female_Gen X_Metropolitan_Medium High       0.79      0.96      0.87        27\n",
      "                Female_Gen X_Rural Areas_High       1.00      1.00      1.00         3\n",
      "              Female_Gen X_Rural Areas_Medium       1.00      1.00      1.00         2\n",
      "             Female_Gen X_Suburban Areas_High       0.89      1.00      0.94        17\n",
      "           Female_Gen X_Suburban Areas_Medium       1.00      1.00      1.00         7\n",
      "      Female_Gen X_Suburban Areas_Medium High       0.93      1.00      0.97        14\n",
      "               Female_Gen Z_Metropolitan_High       0.82      0.82      0.82        17\n",
      "                Female_Gen Z_Metropolitan_Low       1.00      0.96      0.98        27\n",
      "             Female_Gen Z_Metropolitan_Medium       0.92      1.00      0.96        11\n",
      "        Female_Gen Z_Metropolitan_Medium High       1.00      1.00      1.00         4\n",
      "                Female_Gen Z_Rural Areas_High       1.00      1.00      1.00         3\n",
      "                 Female_Gen Z_Rural Areas_Low       1.00      0.87      0.93        15\n",
      "              Female_Gen Z_Rural Areas_Medium       1.00      1.00      1.00         3\n",
      "             Female_Gen Z_Suburban Areas_High       1.00      1.00      1.00         2\n",
      "              Female_Gen Z_Suburban Areas_Low       1.00      1.00      1.00         5\n",
      "      Female_Gen Z_Suburban Areas_Medium High       1.00      1.00      1.00         2\n",
      "         Female_Millennials_Metropolitan_High       0.96      0.97      0.97        79\n",
      "          Female_Millennials_Metropolitan_Low       1.00      0.59      0.74        22\n",
      "       Female_Millennials_Metropolitan_Medium       1.00      0.88      0.94        33\n",
      "  Female_Millennials_Metropolitan_Medium High       0.90      1.00      0.95        38\n",
      "          Female_Millennials_Rural Areas_High       1.00      1.00      1.00         7\n",
      "           Female_Millennials_Rural Areas_Low       1.00      1.00      1.00         8\n",
      "        Female_Millennials_Rural Areas_Medium       1.00      1.00      1.00         3\n",
      "   Female_Millennials_Rural Areas_Medium High       1.00      1.00      1.00         1\n",
      "       Female_Millennials_Suburban Areas_High       1.00      0.79      0.88        14\n",
      "        Female_Millennials_Suburban Areas_Low       1.00      1.00      1.00         2\n",
      "     Female_Millennials_Suburban Areas_Medium       1.00      0.84      0.91        19\n",
      "Female_Millennials_Suburban Areas_Medium High       0.93      0.93      0.93        27\n",
      "          Male_Baby Boomers_Metropolitan_High       1.00      1.00      1.00         1\n",
      "   Male_Baby Boomers_Metropolitan_Medium High       0.75      0.75      0.75         4\n",
      "           Male_Baby Boomers_Rural Areas_High       1.00      1.00      1.00         1\n",
      "        Male_Baby Boomers_Suburban Areas_High       0.67      1.00      0.80         2\n",
      "         Male_Baby Boomers_Suburban Areas_Low       1.00      1.00      1.00         1\n",
      " Male_Baby Boomers_Suburban Areas_Medium High       1.00      1.00      1.00         2\n",
      "                 Male_Gen X_Metropolitan_High       0.95      1.00      0.97        18\n",
      "                  Male_Gen X_Metropolitan_Low       1.00      1.00      1.00         3\n",
      "               Male_Gen X_Metropolitan_Medium       1.00      1.00      1.00        12\n",
      "          Male_Gen X_Metropolitan_Medium High       1.00      0.94      0.97        17\n",
      "                Male_Gen X_Rural Areas_Medium       1.00      1.00      1.00         2\n",
      "           Male_Gen X_Rural Areas_Medium High       1.00      1.00      1.00         2\n",
      "               Male_Gen X_Suburban Areas_High       1.00      1.00      1.00         5\n",
      "        Male_Gen X_Suburban Areas_Medium High       1.00      1.00      1.00         3\n",
      "                 Male_Gen Z_Metropolitan_High       1.00      1.00      1.00         9\n",
      "                  Male_Gen Z_Metropolitan_Low       0.81      1.00      0.90        22\n",
      "               Male_Gen Z_Metropolitan_Medium       1.00      1.00      1.00        14\n",
      "          Male_Gen Z_Metropolitan_Medium High       0.60      1.00      0.75         6\n",
      "                  Male_Gen Z_Rural Areas_High       1.00      1.00      1.00         1\n",
      "                   Male_Gen Z_Rural Areas_Low       0.80      1.00      0.89         8\n",
      "                Male_Gen Z_Rural Areas_Medium       0.00      0.00      0.00         2\n",
      "               Male_Gen Z_Suburban Areas_High       1.00      1.00      1.00         1\n",
      "                Male_Gen Z_Suburban Areas_Low       1.00      1.00      1.00         3\n",
      "             Male_Gen Z_Suburban Areas_Medium       1.00      1.00      1.00         4\n",
      "        Male_Gen Z_Suburban Areas_Medium High       1.00      0.67      0.80         3\n",
      "           Male_Millennials_Metropolitan_High       0.97      0.91      0.94        35\n",
      "            Male_Millennials_Metropolitan_Low       1.00      0.94      0.97        32\n",
      "         Male_Millennials_Metropolitan_Medium       0.92      0.85      0.88        26\n",
      "    Male_Millennials_Metropolitan_Medium High       0.90      1.00      0.95        27\n",
      "            Male_Millennials_Rural Areas_High       1.00      1.00      1.00         2\n",
      "             Male_Millennials_Rural Areas_Low       1.00      0.50      0.67         2\n",
      "          Male_Millennials_Rural Areas_Medium       1.00      1.00      1.00        13\n",
      "     Male_Millennials_Rural Areas_Medium High       1.00      0.67      0.80         3\n",
      "         Male_Millennials_Suburban Areas_High       0.88      1.00      0.93         7\n",
      "       Male_Millennials_Suburban Areas_Medium       1.00      1.00      1.00        14\n",
      "  Male_Millennials_Suburban Areas_Medium High       1.00      0.94      0.97        17\n",
      "      Prefer 0t to say_Gen Z_Metropolitan_Low       1.00      1.00      1.00         2\n",
      "\n",
      "                                     accuracy                           0.94       788\n",
      "                                    macro avg       0.95      0.94      0.94       788\n",
      "                                 weighted avg       0.94      0.94      0.93       788\n",
      "\n"
     ]
    },
    {
     "name": "stderr",
     "output_type": "stream",
     "text": [
      "C:\\Users\\danba\\AppData\\Local\\Packages\\PythonSoftwareFoundation.Python.3.12_qbz5n2kfra8p0\\LocalCache\\local-packages\\Python312\\site-packages\\sklearn\\metrics\\_classification.py:1565: UndefinedMetricWarning: Precision is ill-defined and being set to 0.0 in labels with no predicted samples. Use `zero_division` parameter to control this behavior.\n",
      "  _warn_prf(average, modifier, f\"{metric.capitalize()} is\", len(result))\n",
      "C:\\Users\\danba\\AppData\\Local\\Packages\\PythonSoftwareFoundation.Python.3.12_qbz5n2kfra8p0\\LocalCache\\local-packages\\Python312\\site-packages\\sklearn\\metrics\\_classification.py:1565: UndefinedMetricWarning: Precision is ill-defined and being set to 0.0 in labels with no predicted samples. Use `zero_division` parameter to control this behavior.\n",
      "  _warn_prf(average, modifier, f\"{metric.capitalize()} is\", len(result))\n",
      "C:\\Users\\danba\\AppData\\Local\\Packages\\PythonSoftwareFoundation.Python.3.12_qbz5n2kfra8p0\\LocalCache\\local-packages\\Python312\\site-packages\\sklearn\\metrics\\_classification.py:1565: UndefinedMetricWarning: Precision is ill-defined and being set to 0.0 in labels with no predicted samples. Use `zero_division` parameter to control this behavior.\n",
      "  _warn_prf(average, modifier, f\"{metric.capitalize()} is\", len(result))\n"
     ]
    }
   ],
   "source": [
    "# Show how correct the model is by comparing y_test & y_pred\n",
    "accuracy = accuracy_score(y_test, y_pred)\n",
    "\n",
    "# Detailed breakdown of the overall performance of the model\n",
    "report = classification_report(y_test, y_pred)\n",
    "\n",
    "#Display results\n",
    "print(f\"Accuracy: {accuracy}\")\n",
    "print(\"Classification Report:\\n\", report)"
   ]
  },
  {
   "cell_type": "markdown",
   "metadata": {},
   "source": [
    "I created datasets for future experiments"
   ]
  },
  {
   "cell_type": "code",
   "execution_count": 12,
   "metadata": {},
   "outputs": [],
   "source": [
    "lda_test=df_bootstrapped[['Gender','Mapping','Segment','Purchase Amount','Review Rating','Previous Purchases','Number of AI Tools Used','Frequency of Purchases (Days)','AI_Enhance_Experience']]\n",
    "corr_test=df_bootstrapped[['Purchase Amount','Review Rating','Previous Purchases','Number of AI Tools Used','Frequency of Purchases (Days)','AI_Enhance_Experience']]"
   ]
  },
  {
   "cell_type": "markdown",
   "metadata": {},
   "source": [
    "Insight into the key features for this dataset"
   ]
  },
  {
   "cell_type": "markdown",
   "metadata": {},
   "source": [
    "For the future experiments I will focus on the most important features"
   ]
  },
  {
   "cell_type": "code",
   "execution_count": 13,
   "metadata": {},
   "outputs": [],
   "source": [
    "segment_data_feature_data = df_bootstrapped[['Purchase Amount','Review Rating','Previous Purchases','Number of AI Tools Used','Frequency of Purchases (Days)','AI_Enhance_Experience']]\n",
    "X = segment_data_feature_data\n",
    "segment_data_target_data = df_bootstrapped[['Segment']]\n",
    "y = segment_data_target_data"
   ]
  },
  {
   "cell_type": "markdown",
   "metadata": {
    "id": "t-Z5y6DTcagW"
   },
   "source": [
    "I am evaluating the performance of other models."
   ]
  },
  {
   "cell_type": "code",
   "execution_count": 14,
   "metadata": {},
   "outputs": [
    {
     "name": "stderr",
     "output_type": "stream",
     "text": [
      "C:\\Users\\danba\\AppData\\Local\\Packages\\PythonSoftwareFoundation.Python.3.12_qbz5n2kfra8p0\\LocalCache\\local-packages\\Python312\\site-packages\\sklearn\\neighbors\\_classification.py:239: DataConversionWarning: A column-vector y was passed when a 1d array was expected. Please change the shape of y to (n_samples,), for example using ravel().\n",
      "  return self._fit(X, y)\n"
     ]
    },
    {
     "data": {
      "text/plain": [
       "0.6192893401015228"
      ]
     },
     "execution_count": 14,
     "metadata": {},
     "output_type": "execute_result"
    }
   ],
   "source": [
    "from sklearn import metrics\n",
    "metrics.accuracy_score(y_test, y_pred)\n",
    "\n",
    "from sklearn.neighbors import KNeighborsClassifier\n",
    "knn = KNeighborsClassifier(n_neighbors=5)\n",
    "knn.fit(X_train, y_train)\n",
    "y_pred_knn5 = knn.predict(X_test)\n",
    "metrics.accuracy_score(y_test, y_pred_knn5)"
   ]
  },
  {
   "cell_type": "code",
   "execution_count": 15,
   "metadata": {},
   "outputs": [
    {
     "name": "stdout",
     "output_type": "stream",
     "text": [
      "Accuracy: 0.11548223350253807\n",
      "Classification Report:\n",
      "                                               precision    recall  f1-score   support\n",
      "\n",
      "        Female_Baby Boomers_Metropolitan_High       0.00      0.00      0.00         3\n",
      " Female_Baby Boomers_Metropolitan_Medium High       0.00      0.00      0.00         2\n",
      "         Female_Baby Boomers_Rural Areas_High       0.00      0.00      0.00         1\n",
      "               Female_Gen X_Metropolitan_High       0.08      0.08      0.08        38\n",
      "                Female_Gen X_Metropolitan_Low       0.00      0.00      0.00         5\n",
      "             Female_Gen X_Metropolitan_Medium       0.00      0.00      0.00         1\n",
      "        Female_Gen X_Metropolitan_Medium High       0.00      0.00      0.00        27\n",
      "                Female_Gen X_Rural Areas_High       0.00      0.00      0.00         3\n",
      "              Female_Gen X_Rural Areas_Medium       0.00      0.00      0.00         2\n",
      "             Female_Gen X_Suburban Areas_High       0.08      0.24      0.11        17\n",
      "           Female_Gen X_Suburban Areas_Medium       0.00      0.00      0.00         7\n",
      "      Female_Gen X_Suburban Areas_Medium High       0.00      0.00      0.00        14\n",
      "               Female_Gen Z_Metropolitan_High       0.50      0.06      0.11        17\n",
      "                Female_Gen Z_Metropolitan_Low       0.00      0.00      0.00        27\n",
      "             Female_Gen Z_Metropolitan_Medium       0.00      0.00      0.00        11\n",
      "        Female_Gen Z_Metropolitan_Medium High       0.00      0.00      0.00         4\n",
      "                Female_Gen Z_Rural Areas_High       0.00      0.00      0.00         3\n",
      "                 Female_Gen Z_Rural Areas_Low       0.00      0.00      0.00        15\n",
      "              Female_Gen Z_Rural Areas_Medium       0.00      0.00      0.00         3\n",
      "             Female_Gen Z_Suburban Areas_High       0.00      0.00      0.00         2\n",
      "              Female_Gen Z_Suburban Areas_Low       0.00      0.00      0.00         5\n",
      "           Female_Gen Z_Suburban Areas_Medium       0.00      0.00      0.00         0\n",
      "      Female_Gen Z_Suburban Areas_Medium High       0.00      0.00      0.00         2\n",
      "         Female_Millennials_Metropolitan_High       0.14      0.49      0.22        79\n",
      "          Female_Millennials_Metropolitan_Low       0.00      0.00      0.00        22\n",
      "       Female_Millennials_Metropolitan_Medium       0.00      0.00      0.00        33\n",
      "  Female_Millennials_Metropolitan_Medium High       0.00      0.00      0.00        38\n",
      "          Female_Millennials_Rural Areas_High       0.10      0.14      0.12         7\n",
      "           Female_Millennials_Rural Areas_Low       0.00      0.00      0.00         8\n",
      "        Female_Millennials_Rural Areas_Medium       0.00      0.00      0.00         3\n",
      "   Female_Millennials_Rural Areas_Medium High       0.00      0.00      0.00         1\n",
      "       Female_Millennials_Suburban Areas_High       0.00      0.00      0.00        14\n",
      "        Female_Millennials_Suburban Areas_Low       0.00      0.00      0.00         2\n",
      "     Female_Millennials_Suburban Areas_Medium       0.00      0.00      0.00        19\n",
      "Female_Millennials_Suburban Areas_Medium High       0.00      0.00      0.00        27\n",
      "          Male_Baby Boomers_Metropolitan_High       0.05      1.00      0.10         1\n",
      "   Male_Baby Boomers_Metropolitan_Medium High       0.00      0.00      0.00         4\n",
      "           Male_Baby Boomers_Rural Areas_High       0.00      0.00      0.00         1\n",
      "        Male_Baby Boomers_Suburban Areas_High       0.00      0.00      0.00         2\n",
      "         Male_Baby Boomers_Suburban Areas_Low       0.11      1.00      0.20         1\n",
      " Male_Baby Boomers_Suburban Areas_Medium High       0.00      0.00      0.00         2\n",
      "                 Male_Gen X_Metropolitan_High       0.00      0.00      0.00        18\n",
      "                  Male_Gen X_Metropolitan_Low       0.00      0.00      0.00         3\n",
      "               Male_Gen X_Metropolitan_Medium       0.25      0.50      0.33        12\n",
      "          Male_Gen X_Metropolitan_Medium High       0.07      0.06      0.06        17\n",
      "                Male_Gen X_Rural Areas_Medium       0.00      0.00      0.00         2\n",
      "           Male_Gen X_Rural Areas_Medium High       0.00      0.00      0.00         2\n",
      "               Male_Gen X_Suburban Areas_High       0.12      0.40      0.18         5\n",
      "        Male_Gen X_Suburban Areas_Medium High       0.00      0.00      0.00         3\n",
      "                 Male_Gen Z_Metropolitan_High       0.10      0.33      0.15         9\n",
      "                  Male_Gen Z_Metropolitan_Low       0.18      0.27      0.21        22\n",
      "               Male_Gen Z_Metropolitan_Medium       0.67      0.29      0.40        14\n",
      "          Male_Gen Z_Metropolitan_Medium High       0.00      0.00      0.00         6\n",
      "                  Male_Gen Z_Rural Areas_High       0.00      0.00      0.00         1\n",
      "                   Male_Gen Z_Rural Areas_Low       0.00      0.00      0.00         8\n",
      "                Male_Gen Z_Rural Areas_Medium       0.00      0.00      0.00         2\n",
      "               Male_Gen Z_Suburban Areas_High       0.00      0.00      0.00         1\n",
      "                Male_Gen Z_Suburban Areas_Low       0.00      0.00      0.00         3\n",
      "             Male_Gen Z_Suburban Areas_Medium       0.00      0.00      0.00         4\n",
      "        Male_Gen Z_Suburban Areas_Medium High       1.00      0.67      0.80         3\n",
      "           Male_Millennials_Metropolitan_High       0.09      0.17      0.11        35\n",
      "            Male_Millennials_Metropolitan_Low       0.07      0.09      0.08        32\n",
      "         Male_Millennials_Metropolitan_Medium       0.08      0.12      0.10        26\n",
      "    Male_Millennials_Metropolitan_Medium High       0.14      0.19      0.16        27\n",
      "            Male_Millennials_Rural Areas_High       0.00      0.00      0.00         2\n",
      "             Male_Millennials_Rural Areas_Low       0.00      0.00      0.00         2\n",
      "          Male_Millennials_Rural Areas_Medium       0.00      0.00      0.00        13\n",
      "     Male_Millennials_Rural Areas_Medium High       0.00      0.00      0.00         3\n",
      "         Male_Millennials_Suburban Areas_High       0.00      0.00      0.00         7\n",
      "       Male_Millennials_Suburban Areas_Medium       0.00      0.00      0.00        14\n",
      "  Male_Millennials_Suburban Areas_Medium High       0.00      0.00      0.00        17\n",
      "      Prefer 0t to say_Gen Z_Metropolitan_Low       0.00      0.00      0.00         2\n",
      "\n",
      "                                     accuracy                           0.12       788\n",
      "                                    macro avg       0.05      0.08      0.05       788\n",
      "                                 weighted avg       0.07      0.12      0.07       788\n",
      "\n"
     ]
    },
    {
     "name": "stderr",
     "output_type": "stream",
     "text": [
      "C:\\Users\\danba\\AppData\\Local\\Packages\\PythonSoftwareFoundation.Python.3.12_qbz5n2kfra8p0\\LocalCache\\local-packages\\Python312\\site-packages\\sklearn\\utils\\validation.py:1408: DataConversionWarning: A column-vector y was passed when a 1d array was expected. Please change the shape of y to (n_samples, ), for example using ravel().\n",
      "  y = column_or_1d(y, warn=True)\n",
      "C:\\Users\\danba\\AppData\\Local\\Packages\\PythonSoftwareFoundation.Python.3.12_qbz5n2kfra8p0\\LocalCache\\local-packages\\Python312\\site-packages\\sklearn\\metrics\\_classification.py:1565: UndefinedMetricWarning: Precision is ill-defined and being set to 0.0 in labels with no predicted samples. Use `zero_division` parameter to control this behavior.\n",
      "  _warn_prf(average, modifier, f\"{metric.capitalize()} is\", len(result))\n",
      "C:\\Users\\danba\\AppData\\Local\\Packages\\PythonSoftwareFoundation.Python.3.12_qbz5n2kfra8p0\\LocalCache\\local-packages\\Python312\\site-packages\\sklearn\\metrics\\_classification.py:1565: UndefinedMetricWarning: Recall is ill-defined and being set to 0.0 in labels with no true samples. Use `zero_division` parameter to control this behavior.\n",
      "  _warn_prf(average, modifier, f\"{metric.capitalize()} is\", len(result))\n",
      "C:\\Users\\danba\\AppData\\Local\\Packages\\PythonSoftwareFoundation.Python.3.12_qbz5n2kfra8p0\\LocalCache\\local-packages\\Python312\\site-packages\\sklearn\\metrics\\_classification.py:1565: UndefinedMetricWarning: Precision is ill-defined and being set to 0.0 in labels with no predicted samples. Use `zero_division` parameter to control this behavior.\n",
      "  _warn_prf(average, modifier, f\"{metric.capitalize()} is\", len(result))\n",
      "C:\\Users\\danba\\AppData\\Local\\Packages\\PythonSoftwareFoundation.Python.3.12_qbz5n2kfra8p0\\LocalCache\\local-packages\\Python312\\site-packages\\sklearn\\metrics\\_classification.py:1565: UndefinedMetricWarning: Recall is ill-defined and being set to 0.0 in labels with no true samples. Use `zero_division` parameter to control this behavior.\n",
      "  _warn_prf(average, modifier, f\"{metric.capitalize()} is\", len(result))\n",
      "C:\\Users\\danba\\AppData\\Local\\Packages\\PythonSoftwareFoundation.Python.3.12_qbz5n2kfra8p0\\LocalCache\\local-packages\\Python312\\site-packages\\sklearn\\metrics\\_classification.py:1565: UndefinedMetricWarning: Precision is ill-defined and being set to 0.0 in labels with no predicted samples. Use `zero_division` parameter to control this behavior.\n",
      "  _warn_prf(average, modifier, f\"{metric.capitalize()} is\", len(result))\n",
      "C:\\Users\\danba\\AppData\\Local\\Packages\\PythonSoftwareFoundation.Python.3.12_qbz5n2kfra8p0\\LocalCache\\local-packages\\Python312\\site-packages\\sklearn\\metrics\\_classification.py:1565: UndefinedMetricWarning: Recall is ill-defined and being set to 0.0 in labels with no true samples. Use `zero_division` parameter to control this behavior.\n",
      "  _warn_prf(average, modifier, f\"{metric.capitalize()} is\", len(result))\n"
     ]
    }
   ],
   "source": [
    "import pandas as pd\n",
    "from sklearn.model_selection import train_test_split\n",
    "from sklearn.preprocessing import LabelEncoder\n",
    "from sklearn.discriminant_analysis import LinearDiscriminantAnalysis\n",
    "from sklearn.metrics import accuracy_score, classification_report\n",
    "\n",
    "# Specify train test split\n",
    "X_train, X_test, y_train, y_test = train_test_split(X, y, test_size=0.3, random_state=42)\n",
    "\n",
    "# Use variable to identify the model and train model to learn relationship between features and target\n",
    "lda = LinearDiscriminantAnalysis()\n",
    "lda.fit(X_train, y_train)\n",
    "\n",
    "# Predict the labels for the test dataset\n",
    "y_pred = lda.predict(X_test)\n",
    "\n",
    "# Show how accurate the model is at comparing y_test & y_pred\n",
    "print(f'Accuracy: {accuracy_score(y_test, y_pred)}')\n",
    "\n",
    "# Show a detailed breakdown of the overall performance of the model\n",
    "print(f'Classification Report:\\n{classification_report(y_test, y_pred)}')"
   ]
  },
  {
   "cell_type": "code",
   "execution_count": 16,
   "metadata": {},
   "outputs": [
    {
     "name": "stderr",
     "output_type": "stream",
     "text": [
      "C:\\Users\\danba\\AppData\\Local\\Packages\\PythonSoftwareFoundation.Python.3.12_qbz5n2kfra8p0\\LocalCache\\local-packages\\Python312\\site-packages\\sklearn\\preprocessing\\_label.py:110: DataConversionWarning: A column-vector y was passed when a 1d array was expected. Please change the shape of y to (n_samples, ), for example using ravel().\n",
      "  y = column_or_1d(y, warn=True)\n",
      "C:\\Users\\danba\\AppData\\Local\\Packages\\PythonSoftwareFoundation.Python.3.12_qbz5n2kfra8p0\\LocalCache\\local-packages\\Python312\\site-packages\\xgboost\\core.py:158: UserWarning: [11:42:30] WARNING: C:\\buildkite-agent\\builds\\buildkite-windows-cpu-autoscaling-group-i-08cbc0333d8d4aae1-1\\xgboost\\xgboost-ci-windows\\src\\learner.cc:740: \n",
      "Parameters: { \"use_label_encoder\" } are not used.\n",
      "\n",
      "  warnings.warn(smsg, UserWarning)\n"
     ]
    },
    {
     "name": "stdout",
     "output_type": "stream",
     "text": [
      "Accuracy: 0.9714285714285714\n"
     ]
    }
   ],
   "source": [
    "import pandas as pd\n",
    "import xgboost as xgb\n",
    "from sklearn.model_selection import train_test_split\n",
    "from sklearn.metrics import accuracy_score\n",
    "from sklearn.preprocessing import LabelEncoder\n",
    "from sklearn.model_selection import train_test_split\n",
    "label_encoder = LabelEncoder()\n",
    "\n",
    "# encoode the target labels\n",
    "y_encoded = label_encoder.fit_transform(y)\n",
    "\n",
    "# Specify the test train split\n",
    "X_train, X_test, y_train, y_test = train_test_split(X, y_encoded, test_size=0.2, random_state=42)\n",
    "\n",
    "# Use variable to identify the model and train model to learn relationship between features and target\n",
    "model = xgb.XGBClassifier(use_label_encoder=False)\n",
    "model.fit(X_train, y_train)\n",
    "\n",
    "# Predict the labels for the test dataset\n",
    "y_pred = model.predict(X_test)\n",
    "\n",
    "# Show how accurate the model is at comparing y_test & y_pred\n",
    "accuracy = accuracy_score(y_test, y_pred)\n",
    "print(f\"Accuracy: {accuracy}\")"
   ]
  },
  {
   "cell_type": "markdown",
   "metadata": {},
   "source": [
    "Evaluating Decision Tree Classifier, KNeighbors Classifier, Linear Discrimination Analysis, GaussianNB, Logistic Regression using cross-validation & changing parameters.\n"
   ]
  },
  {
   "cell_type": "markdown",
   "metadata": {},
   "source": [
    "This is a control for the KNeighbor parameter fine-tuning experiments"
   ]
  },
  {
   "cell_type": "code",
   "execution_count": 57,
   "metadata": {},
   "outputs": [
    {
     "name": "stdout",
     "output_type": "stream",
     "text": [
      "[0.66615854 0.69893293]\n",
      "Mean test score: 0.6825457317073171\n"
     ]
    },
    {
     "name": "stderr",
     "output_type": "stream",
     "text": [
      "C:\\Users\\danba\\AppData\\Local\\Packages\\PythonSoftwareFoundation.Python.3.12_qbz5n2kfra8p0\\LocalCache\\local-packages\\Python312\\site-packages\\sklearn\\neighbors\\_classification.py:239: DataConversionWarning: A column-vector y was passed when a 1d array was expected. Please change the shape of y to (n_samples,), for example using ravel().\n",
      "  return self._fit(X, y)\n",
      "C:\\Users\\danba\\AppData\\Local\\Packages\\PythonSoftwareFoundation.Python.3.12_qbz5n2kfra8p0\\LocalCache\\local-packages\\Python312\\site-packages\\sklearn\\neighbors\\_classification.py:239: DataConversionWarning: A column-vector y was passed when a 1d array was expected. Please change the shape of y to (n_samples,), for example using ravel().\n",
      "  return self._fit(X, y)\n"
     ]
    }
   ],
   "source": [
    "from sklearn.model_selection import cross_validate\n",
    "from sklearn.model_selection import StratifiedKFold\n",
    "\n",
    "model = KNeighborsClassifier(n_neighbors=3) # try changing these parameters\n",
    "\n",
    "# split the data into two folds while maintaining the class distribution. The least populated class has only two members so the split cannot be greater than 2\n",
    "skf = StratifiedKFold(n_splits=2)\n",
    "cv1 = cross_validate(model, X, y, cv=skf)\n",
    "\n",
    "# print test scores\n",
    "print(cv1['test_score'])\n",
    "print(f\"Mean test score: {cv1['test_score'].mean()}\")"
   ]
  },
  {
   "cell_type": "markdown",
   "metadata": {},
   "source": [
    "A Grid Search identified n_neighbors=1 as having the improves performance the most."
   ]
  },
  {
   "cell_type": "code",
   "execution_count": 18,
   "metadata": {},
   "outputs": [
    {
     "name": "stdout",
     "output_type": "stream",
     "text": [
      "[0.89481707 0.89862805]\n",
      "Mean test score: 0.8967225609756098\n"
     ]
    },
    {
     "name": "stderr",
     "output_type": "stream",
     "text": [
      "C:\\Users\\danba\\AppData\\Local\\Packages\\PythonSoftwareFoundation.Python.3.12_qbz5n2kfra8p0\\LocalCache\\local-packages\\Python312\\site-packages\\sklearn\\neighbors\\_classification.py:239: DataConversionWarning: A column-vector y was passed when a 1d array was expected. Please change the shape of y to (n_samples,), for example using ravel().\n",
      "  return self._fit(X, y)\n",
      "C:\\Users\\danba\\AppData\\Local\\Packages\\PythonSoftwareFoundation.Python.3.12_qbz5n2kfra8p0\\LocalCache\\local-packages\\Python312\\site-packages\\sklearn\\neighbors\\_classification.py:239: DataConversionWarning: A column-vector y was passed when a 1d array was expected. Please change the shape of y to (n_samples,), for example using ravel().\n",
      "  return self._fit(X, y)\n"
     ]
    }
   ],
   "source": [
    "from sklearn.model_selection import StratifiedKFold\n",
    "from sklearn.preprocessing import StandardScaler\n",
    "scaler = StandardScaler()\n",
    "X_scaled = scaler.fit_transform(X)\n",
    "\n",
    "model = KNeighborsClassifier(n_neighbors=1) # try changing these parameters\n",
    "\n",
    "# split the data into two folds while maintaining the class distribution. The least populated class has only two members so the split cannot be greater than 2\n",
    "skf = StratifiedKFold(n_splits=2)\n",
    "cv1 = cross_validate(model, X_scaled, y, cv=skf)\n",
    "\n",
    "# print test scores\n",
    "print(cv1['test_score'])\n",
    "print(f\"Mean test score: {cv1['test_score'].mean()}\")"
   ]
  },
  {
   "cell_type": "markdown",
   "metadata": {},
   "source": [
    "Allowing closer neighbors to have more influence on the performance of the model."
   ]
  },
  {
   "cell_type": "code",
   "execution_count": 23,
   "metadata": {},
   "outputs": [
    {
     "name": "stdout",
     "output_type": "stream",
     "text": [
      "[0.89481707 0.89939024]\n",
      "Mean test score: 0.8971036585365854\n"
     ]
    },
    {
     "name": "stderr",
     "output_type": "stream",
     "text": [
      "C:\\Users\\danba\\AppData\\Local\\Packages\\PythonSoftwareFoundation.Python.3.12_qbz5n2kfra8p0\\LocalCache\\local-packages\\Python312\\site-packages\\sklearn\\neighbors\\_classification.py:239: DataConversionWarning: A column-vector y was passed when a 1d array was expected. Please change the shape of y to (n_samples,), for example using ravel().\n",
      "  return self._fit(X, y)\n",
      "C:\\Users\\danba\\AppData\\Local\\Packages\\PythonSoftwareFoundation.Python.3.12_qbz5n2kfra8p0\\LocalCache\\local-packages\\Python312\\site-packages\\sklearn\\neighbors\\_classification.py:239: DataConversionWarning: A column-vector y was passed when a 1d array was expected. Please change the shape of y to (n_samples,), for example using ravel().\n",
      "  return self._fit(X, y)\n"
     ]
    }
   ],
   "source": [
    "from sklearn.model_selection import cross_validate\n",
    "from sklearn.model_selection import StratifiedKFold\n",
    "from sklearn.preprocessing import StandardScaler\n",
    "scaler = StandardScaler()\n",
    "X_scaled = scaler.fit_transform(X)\n",
    "\n",
    "model = KNeighborsClassifier(n_neighbors=3, weights='distance') # try changing these parameters\n",
    "\n",
    "# split the data into two folds while maintaining the class distribution. The least populated class has only two members so the split cannot be greater than 2\n",
    "skf = StratifiedKFold(n_splits=2)\n",
    "cv1 = cross_validate(model, X_scaled, y, cv=skf)\n",
    "\n",
    "# print test scores\n",
    "print(cv1['test_score'])\n",
    "print(f\"Mean test score: {cv1['test_score'].mean()}\")"
   ]
  },
  {
   "cell_type": "markdown",
   "metadata": {},
   "source": [
    "Used the Manhattan metric instead of the Euclidean, the default"
   ]
  },
  {
   "cell_type": "code",
   "execution_count": 22,
   "metadata": {},
   "outputs": [
    {
     "name": "stdout",
     "output_type": "stream",
     "text": [
      "[0.67454268 0.70045732]\n",
      "Mean test score: 0.6875\n"
     ]
    },
    {
     "name": "stderr",
     "output_type": "stream",
     "text": [
      "C:\\Users\\danba\\AppData\\Local\\Packages\\PythonSoftwareFoundation.Python.3.12_qbz5n2kfra8p0\\LocalCache\\local-packages\\Python312\\site-packages\\sklearn\\neighbors\\_classification.py:239: DataConversionWarning: A column-vector y was passed when a 1d array was expected. Please change the shape of y to (n_samples,), for example using ravel().\n",
      "  return self._fit(X, y)\n",
      "C:\\Users\\danba\\AppData\\Local\\Packages\\PythonSoftwareFoundation.Python.3.12_qbz5n2kfra8p0\\LocalCache\\local-packages\\Python312\\site-packages\\sklearn\\neighbors\\_classification.py:239: DataConversionWarning: A column-vector y was passed when a 1d array was expected. Please change the shape of y to (n_samples,), for example using ravel().\n",
      "  return self._fit(X, y)\n"
     ]
    }
   ],
   "source": [
    "from sklearn.model_selection import cross_validate\n",
    "from sklearn.model_selection import StratifiedKFold\n",
    "from sklearn.preprocessing import StandardScaler\n",
    "scaler = StandardScaler()\n",
    "X_scaled = scaler.fit_transform(X)\n",
    "\n",
    "model = KNeighborsClassifier(n_neighbors=3, metric='manhattan') # try changing these parameters\n",
    "\n",
    "# split the data into two folds while maintaining the class distribution. The least populated class has only two members so the split cannot be greater than 2\n",
    "skf = StratifiedKFold(n_splits=2)\n",
    "cv1 = cross_validate(model, X_scaled, y, cv=skf)\n",
    "\n",
    "# print test scores\n",
    "print(cv1['test_score'])\n",
    "print(f\"Mean test score: {cv1['test_score'].mean()}\")"
   ]
  },
  {
   "cell_type": "markdown",
   "metadata": {},
   "source": [
    "A Grid Search of a range of N-neighbors from 1 to 20. n_neighbors=1 was identified as improving performance the most"
   ]
  },
  {
   "cell_type": "code",
   "execution_count": 37,
   "metadata": {},
   "outputs": [
    {
     "name": "stderr",
     "output_type": "stream",
     "text": [
      "C:\\Users\\danba\\AppData\\Local\\Packages\\PythonSoftwareFoundation.Python.3.12_qbz5n2kfra8p0\\LocalCache\\local-packages\\Python312\\site-packages\\sklearn\\model_selection\\_split.py:805: UserWarning: The least populated class in y has only 2 members, which is less than n_splits=5.\n",
      "  warnings.warn(\n",
      "C:\\Users\\danba\\AppData\\Local\\Packages\\PythonSoftwareFoundation.Python.3.12_qbz5n2kfra8p0\\LocalCache\\local-packages\\Python312\\site-packages\\sklearn\\neighbors\\_classification.py:239: DataConversionWarning: A column-vector y was passed when a 1d array was expected. Please change the shape of y to (n_samples,), for example using ravel().\n",
      "  return self._fit(X, y)\n",
      "C:\\Users\\danba\\AppData\\Local\\Packages\\PythonSoftwareFoundation.Python.3.12_qbz5n2kfra8p0\\LocalCache\\local-packages\\Python312\\site-packages\\sklearn\\neighbors\\_classification.py:239: DataConversionWarning: A column-vector y was passed when a 1d array was expected. Please change the shape of y to (n_samples,), for example using ravel().\n",
      "  return self._fit(X, y)\n",
      "C:\\Users\\danba\\AppData\\Local\\Packages\\PythonSoftwareFoundation.Python.3.12_qbz5n2kfra8p0\\LocalCache\\local-packages\\Python312\\site-packages\\sklearn\\neighbors\\_classification.py:239: DataConversionWarning: A column-vector y was passed when a 1d array was expected. Please change the shape of y to (n_samples,), for example using ravel().\n",
      "  return self._fit(X, y)\n",
      "C:\\Users\\danba\\AppData\\Local\\Packages\\PythonSoftwareFoundation.Python.3.12_qbz5n2kfra8p0\\LocalCache\\local-packages\\Python312\\site-packages\\sklearn\\neighbors\\_classification.py:239: DataConversionWarning: A column-vector y was passed when a 1d array was expected. Please change the shape of y to (n_samples,), for example using ravel().\n",
      "  return self._fit(X, y)\n",
      "C:\\Users\\danba\\AppData\\Local\\Packages\\PythonSoftwareFoundation.Python.3.12_qbz5n2kfra8p0\\LocalCache\\local-packages\\Python312\\site-packages\\sklearn\\neighbors\\_classification.py:239: DataConversionWarning: A column-vector y was passed when a 1d array was expected. Please change the shape of y to (n_samples,), for example using ravel().\n",
      "  return self._fit(X, y)\n",
      "C:\\Users\\danba\\AppData\\Local\\Packages\\PythonSoftwareFoundation.Python.3.12_qbz5n2kfra8p0\\LocalCache\\local-packages\\Python312\\site-packages\\sklearn\\neighbors\\_classification.py:239: DataConversionWarning: A column-vector y was passed when a 1d array was expected. Please change the shape of y to (n_samples,), for example using ravel().\n",
      "  return self._fit(X, y)\n",
      "C:\\Users\\danba\\AppData\\Local\\Packages\\PythonSoftwareFoundation.Python.3.12_qbz5n2kfra8p0\\LocalCache\\local-packages\\Python312\\site-packages\\sklearn\\neighbors\\_classification.py:239: DataConversionWarning: A column-vector y was passed when a 1d array was expected. Please change the shape of y to (n_samples,), for example using ravel().\n",
      "  return self._fit(X, y)\n",
      "C:\\Users\\danba\\AppData\\Local\\Packages\\PythonSoftwareFoundation.Python.3.12_qbz5n2kfra8p0\\LocalCache\\local-packages\\Python312\\site-packages\\sklearn\\neighbors\\_classification.py:239: DataConversionWarning: A column-vector y was passed when a 1d array was expected. Please change the shape of y to (n_samples,), for example using ravel().\n",
      "  return self._fit(X, y)\n",
      "C:\\Users\\danba\\AppData\\Local\\Packages\\PythonSoftwareFoundation.Python.3.12_qbz5n2kfra8p0\\LocalCache\\local-packages\\Python312\\site-packages\\sklearn\\neighbors\\_classification.py:239: DataConversionWarning: A column-vector y was passed when a 1d array was expected. Please change the shape of y to (n_samples,), for example using ravel().\n",
      "  return self._fit(X, y)\n",
      "C:\\Users\\danba\\AppData\\Local\\Packages\\PythonSoftwareFoundation.Python.3.12_qbz5n2kfra8p0\\LocalCache\\local-packages\\Python312\\site-packages\\sklearn\\neighbors\\_classification.py:239: DataConversionWarning: A column-vector y was passed when a 1d array was expected. Please change the shape of y to (n_samples,), for example using ravel().\n",
      "  return self._fit(X, y)\n",
      "C:\\Users\\danba\\AppData\\Local\\Packages\\PythonSoftwareFoundation.Python.3.12_qbz5n2kfra8p0\\LocalCache\\local-packages\\Python312\\site-packages\\sklearn\\neighbors\\_classification.py:239: DataConversionWarning: A column-vector y was passed when a 1d array was expected. Please change the shape of y to (n_samples,), for example using ravel().\n",
      "  return self._fit(X, y)\n",
      "C:\\Users\\danba\\AppData\\Local\\Packages\\PythonSoftwareFoundation.Python.3.12_qbz5n2kfra8p0\\LocalCache\\local-packages\\Python312\\site-packages\\sklearn\\neighbors\\_classification.py:239: DataConversionWarning: A column-vector y was passed when a 1d array was expected. Please change the shape of y to (n_samples,), for example using ravel().\n",
      "  return self._fit(X, y)\n",
      "C:\\Users\\danba\\AppData\\Local\\Packages\\PythonSoftwareFoundation.Python.3.12_qbz5n2kfra8p0\\LocalCache\\local-packages\\Python312\\site-packages\\sklearn\\neighbors\\_classification.py:239: DataConversionWarning: A column-vector y was passed when a 1d array was expected. Please change the shape of y to (n_samples,), for example using ravel().\n",
      "  return self._fit(X, y)\n",
      "C:\\Users\\danba\\AppData\\Local\\Packages\\PythonSoftwareFoundation.Python.3.12_qbz5n2kfra8p0\\LocalCache\\local-packages\\Python312\\site-packages\\sklearn\\neighbors\\_classification.py:239: DataConversionWarning: A column-vector y was passed when a 1d array was expected. Please change the shape of y to (n_samples,), for example using ravel().\n",
      "  return self._fit(X, y)\n",
      "C:\\Users\\danba\\AppData\\Local\\Packages\\PythonSoftwareFoundation.Python.3.12_qbz5n2kfra8p0\\LocalCache\\local-packages\\Python312\\site-packages\\sklearn\\neighbors\\_classification.py:239: DataConversionWarning: A column-vector y was passed when a 1d array was expected. Please change the shape of y to (n_samples,), for example using ravel().\n",
      "  return self._fit(X, y)\n",
      "C:\\Users\\danba\\AppData\\Local\\Packages\\PythonSoftwareFoundation.Python.3.12_qbz5n2kfra8p0\\LocalCache\\local-packages\\Python312\\site-packages\\sklearn\\neighbors\\_classification.py:239: DataConversionWarning: A column-vector y was passed when a 1d array was expected. Please change the shape of y to (n_samples,), for example using ravel().\n",
      "  return self._fit(X, y)\n",
      "C:\\Users\\danba\\AppData\\Local\\Packages\\PythonSoftwareFoundation.Python.3.12_qbz5n2kfra8p0\\LocalCache\\local-packages\\Python312\\site-packages\\sklearn\\neighbors\\_classification.py:239: DataConversionWarning: A column-vector y was passed when a 1d array was expected. Please change the shape of y to (n_samples,), for example using ravel().\n",
      "  return self._fit(X, y)\n",
      "C:\\Users\\danba\\AppData\\Local\\Packages\\PythonSoftwareFoundation.Python.3.12_qbz5n2kfra8p0\\LocalCache\\local-packages\\Python312\\site-packages\\sklearn\\neighbors\\_classification.py:239: DataConversionWarning: A column-vector y was passed when a 1d array was expected. Please change the shape of y to (n_samples,), for example using ravel().\n",
      "  return self._fit(X, y)\n",
      "C:\\Users\\danba\\AppData\\Local\\Packages\\PythonSoftwareFoundation.Python.3.12_qbz5n2kfra8p0\\LocalCache\\local-packages\\Python312\\site-packages\\sklearn\\neighbors\\_classification.py:239: DataConversionWarning: A column-vector y was passed when a 1d array was expected. Please change the shape of y to (n_samples,), for example using ravel().\n",
      "  return self._fit(X, y)\n",
      "C:\\Users\\danba\\AppData\\Local\\Packages\\PythonSoftwareFoundation.Python.3.12_qbz5n2kfra8p0\\LocalCache\\local-packages\\Python312\\site-packages\\sklearn\\neighbors\\_classification.py:239: DataConversionWarning: A column-vector y was passed when a 1d array was expected. Please change the shape of y to (n_samples,), for example using ravel().\n",
      "  return self._fit(X, y)\n",
      "C:\\Users\\danba\\AppData\\Local\\Packages\\PythonSoftwareFoundation.Python.3.12_qbz5n2kfra8p0\\LocalCache\\local-packages\\Python312\\site-packages\\sklearn\\neighbors\\_classification.py:239: DataConversionWarning: A column-vector y was passed when a 1d array was expected. Please change the shape of y to (n_samples,), for example using ravel().\n",
      "  return self._fit(X, y)\n",
      "C:\\Users\\danba\\AppData\\Local\\Packages\\PythonSoftwareFoundation.Python.3.12_qbz5n2kfra8p0\\LocalCache\\local-packages\\Python312\\site-packages\\sklearn\\neighbors\\_classification.py:239: DataConversionWarning: A column-vector y was passed when a 1d array was expected. Please change the shape of y to (n_samples,), for example using ravel().\n",
      "  return self._fit(X, y)\n",
      "C:\\Users\\danba\\AppData\\Local\\Packages\\PythonSoftwareFoundation.Python.3.12_qbz5n2kfra8p0\\LocalCache\\local-packages\\Python312\\site-packages\\sklearn\\neighbors\\_classification.py:239: DataConversionWarning: A column-vector y was passed when a 1d array was expected. Please change the shape of y to (n_samples,), for example using ravel().\n",
      "  return self._fit(X, y)\n",
      "C:\\Users\\danba\\AppData\\Local\\Packages\\PythonSoftwareFoundation.Python.3.12_qbz5n2kfra8p0\\LocalCache\\local-packages\\Python312\\site-packages\\sklearn\\neighbors\\_classification.py:239: DataConversionWarning: A column-vector y was passed when a 1d array was expected. Please change the shape of y to (n_samples,), for example using ravel().\n",
      "  return self._fit(X, y)\n",
      "C:\\Users\\danba\\AppData\\Local\\Packages\\PythonSoftwareFoundation.Python.3.12_qbz5n2kfra8p0\\LocalCache\\local-packages\\Python312\\site-packages\\sklearn\\neighbors\\_classification.py:239: DataConversionWarning: A column-vector y was passed when a 1d array was expected. Please change the shape of y to (n_samples,), for example using ravel().\n",
      "  return self._fit(X, y)\n",
      "C:\\Users\\danba\\AppData\\Local\\Packages\\PythonSoftwareFoundation.Python.3.12_qbz5n2kfra8p0\\LocalCache\\local-packages\\Python312\\site-packages\\sklearn\\neighbors\\_classification.py:239: DataConversionWarning: A column-vector y was passed when a 1d array was expected. Please change the shape of y to (n_samples,), for example using ravel().\n",
      "  return self._fit(X, y)\n",
      "C:\\Users\\danba\\AppData\\Local\\Packages\\PythonSoftwareFoundation.Python.3.12_qbz5n2kfra8p0\\LocalCache\\local-packages\\Python312\\site-packages\\sklearn\\neighbors\\_classification.py:239: DataConversionWarning: A column-vector y was passed when a 1d array was expected. Please change the shape of y to (n_samples,), for example using ravel().\n",
      "  return self._fit(X, y)\n",
      "C:\\Users\\danba\\AppData\\Local\\Packages\\PythonSoftwareFoundation.Python.3.12_qbz5n2kfra8p0\\LocalCache\\local-packages\\Python312\\site-packages\\sklearn\\neighbors\\_classification.py:239: DataConversionWarning: A column-vector y was passed when a 1d array was expected. Please change the shape of y to (n_samples,), for example using ravel().\n",
      "  return self._fit(X, y)\n",
      "C:\\Users\\danba\\AppData\\Local\\Packages\\PythonSoftwareFoundation.Python.3.12_qbz5n2kfra8p0\\LocalCache\\local-packages\\Python312\\site-packages\\sklearn\\neighbors\\_classification.py:239: DataConversionWarning: A column-vector y was passed when a 1d array was expected. Please change the shape of y to (n_samples,), for example using ravel().\n",
      "  return self._fit(X, y)\n",
      "C:\\Users\\danba\\AppData\\Local\\Packages\\PythonSoftwareFoundation.Python.3.12_qbz5n2kfra8p0\\LocalCache\\local-packages\\Python312\\site-packages\\sklearn\\neighbors\\_classification.py:239: DataConversionWarning: A column-vector y was passed when a 1d array was expected. Please change the shape of y to (n_samples,), for example using ravel().\n",
      "  return self._fit(X, y)\n",
      "C:\\Users\\danba\\AppData\\Local\\Packages\\PythonSoftwareFoundation.Python.3.12_qbz5n2kfra8p0\\LocalCache\\local-packages\\Python312\\site-packages\\sklearn\\neighbors\\_classification.py:239: DataConversionWarning: A column-vector y was passed when a 1d array was expected. Please change the shape of y to (n_samples,), for example using ravel().\n",
      "  return self._fit(X, y)\n",
      "C:\\Users\\danba\\AppData\\Local\\Packages\\PythonSoftwareFoundation.Python.3.12_qbz5n2kfra8p0\\LocalCache\\local-packages\\Python312\\site-packages\\sklearn\\neighbors\\_classification.py:239: DataConversionWarning: A column-vector y was passed when a 1d array was expected. Please change the shape of y to (n_samples,), for example using ravel().\n",
      "  return self._fit(X, y)\n",
      "C:\\Users\\danba\\AppData\\Local\\Packages\\PythonSoftwareFoundation.Python.3.12_qbz5n2kfra8p0\\LocalCache\\local-packages\\Python312\\site-packages\\sklearn\\neighbors\\_classification.py:239: DataConversionWarning: A column-vector y was passed when a 1d array was expected. Please change the shape of y to (n_samples,), for example using ravel().\n",
      "  return self._fit(X, y)\n",
      "C:\\Users\\danba\\AppData\\Local\\Packages\\PythonSoftwareFoundation.Python.3.12_qbz5n2kfra8p0\\LocalCache\\local-packages\\Python312\\site-packages\\sklearn\\neighbors\\_classification.py:239: DataConversionWarning: A column-vector y was passed when a 1d array was expected. Please change the shape of y to (n_samples,), for example using ravel().\n",
      "  return self._fit(X, y)\n",
      "C:\\Users\\danba\\AppData\\Local\\Packages\\PythonSoftwareFoundation.Python.3.12_qbz5n2kfra8p0\\LocalCache\\local-packages\\Python312\\site-packages\\sklearn\\neighbors\\_classification.py:239: DataConversionWarning: A column-vector y was passed when a 1d array was expected. Please change the shape of y to (n_samples,), for example using ravel().\n",
      "  return self._fit(X, y)\n",
      "C:\\Users\\danba\\AppData\\Local\\Packages\\PythonSoftwareFoundation.Python.3.12_qbz5n2kfra8p0\\LocalCache\\local-packages\\Python312\\site-packages\\sklearn\\neighbors\\_classification.py:239: DataConversionWarning: A column-vector y was passed when a 1d array was expected. Please change the shape of y to (n_samples,), for example using ravel().\n",
      "  return self._fit(X, y)\n",
      "C:\\Users\\danba\\AppData\\Local\\Packages\\PythonSoftwareFoundation.Python.3.12_qbz5n2kfra8p0\\LocalCache\\local-packages\\Python312\\site-packages\\sklearn\\neighbors\\_classification.py:239: DataConversionWarning: A column-vector y was passed when a 1d array was expected. Please change the shape of y to (n_samples,), for example using ravel().\n",
      "  return self._fit(X, y)\n",
      "C:\\Users\\danba\\AppData\\Local\\Packages\\PythonSoftwareFoundation.Python.3.12_qbz5n2kfra8p0\\LocalCache\\local-packages\\Python312\\site-packages\\sklearn\\neighbors\\_classification.py:239: DataConversionWarning: A column-vector y was passed when a 1d array was expected. Please change the shape of y to (n_samples,), for example using ravel().\n",
      "  return self._fit(X, y)\n",
      "C:\\Users\\danba\\AppData\\Local\\Packages\\PythonSoftwareFoundation.Python.3.12_qbz5n2kfra8p0\\LocalCache\\local-packages\\Python312\\site-packages\\sklearn\\neighbors\\_classification.py:239: DataConversionWarning: A column-vector y was passed when a 1d array was expected. Please change the shape of y to (n_samples,), for example using ravel().\n",
      "  return self._fit(X, y)\n",
      "C:\\Users\\danba\\AppData\\Local\\Packages\\PythonSoftwareFoundation.Python.3.12_qbz5n2kfra8p0\\LocalCache\\local-packages\\Python312\\site-packages\\sklearn\\neighbors\\_classification.py:239: DataConversionWarning: A column-vector y was passed when a 1d array was expected. Please change the shape of y to (n_samples,), for example using ravel().\n",
      "  return self._fit(X, y)\n",
      "C:\\Users\\danba\\AppData\\Local\\Packages\\PythonSoftwareFoundation.Python.3.12_qbz5n2kfra8p0\\LocalCache\\local-packages\\Python312\\site-packages\\sklearn\\neighbors\\_classification.py:239: DataConversionWarning: A column-vector y was passed when a 1d array was expected. Please change the shape of y to (n_samples,), for example using ravel().\n",
      "  return self._fit(X, y)\n",
      "C:\\Users\\danba\\AppData\\Local\\Packages\\PythonSoftwareFoundation.Python.3.12_qbz5n2kfra8p0\\LocalCache\\local-packages\\Python312\\site-packages\\sklearn\\neighbors\\_classification.py:239: DataConversionWarning: A column-vector y was passed when a 1d array was expected. Please change the shape of y to (n_samples,), for example using ravel().\n",
      "  return self._fit(X, y)\n",
      "C:\\Users\\danba\\AppData\\Local\\Packages\\PythonSoftwareFoundation.Python.3.12_qbz5n2kfra8p0\\LocalCache\\local-packages\\Python312\\site-packages\\sklearn\\neighbors\\_classification.py:239: DataConversionWarning: A column-vector y was passed when a 1d array was expected. Please change the shape of y to (n_samples,), for example using ravel().\n",
      "  return self._fit(X, y)\n",
      "C:\\Users\\danba\\AppData\\Local\\Packages\\PythonSoftwareFoundation.Python.3.12_qbz5n2kfra8p0\\LocalCache\\local-packages\\Python312\\site-packages\\sklearn\\neighbors\\_classification.py:239: DataConversionWarning: A column-vector y was passed when a 1d array was expected. Please change the shape of y to (n_samples,), for example using ravel().\n",
      "  return self._fit(X, y)\n",
      "C:\\Users\\danba\\AppData\\Local\\Packages\\PythonSoftwareFoundation.Python.3.12_qbz5n2kfra8p0\\LocalCache\\local-packages\\Python312\\site-packages\\sklearn\\neighbors\\_classification.py:239: DataConversionWarning: A column-vector y was passed when a 1d array was expected. Please change the shape of y to (n_samples,), for example using ravel().\n",
      "  return self._fit(X, y)\n",
      "C:\\Users\\danba\\AppData\\Local\\Packages\\PythonSoftwareFoundation.Python.3.12_qbz5n2kfra8p0\\LocalCache\\local-packages\\Python312\\site-packages\\sklearn\\neighbors\\_classification.py:239: DataConversionWarning: A column-vector y was passed when a 1d array was expected. Please change the shape of y to (n_samples,), for example using ravel().\n",
      "  return self._fit(X, y)\n",
      "C:\\Users\\danba\\AppData\\Local\\Packages\\PythonSoftwareFoundation.Python.3.12_qbz5n2kfra8p0\\LocalCache\\local-packages\\Python312\\site-packages\\sklearn\\neighbors\\_classification.py:239: DataConversionWarning: A column-vector y was passed when a 1d array was expected. Please change the shape of y to (n_samples,), for example using ravel().\n",
      "  return self._fit(X, y)\n",
      "C:\\Users\\danba\\AppData\\Local\\Packages\\PythonSoftwareFoundation.Python.3.12_qbz5n2kfra8p0\\LocalCache\\local-packages\\Python312\\site-packages\\sklearn\\neighbors\\_classification.py:239: DataConversionWarning: A column-vector y was passed when a 1d array was expected. Please change the shape of y to (n_samples,), for example using ravel().\n",
      "  return self._fit(X, y)\n",
      "C:\\Users\\danba\\AppData\\Local\\Packages\\PythonSoftwareFoundation.Python.3.12_qbz5n2kfra8p0\\LocalCache\\local-packages\\Python312\\site-packages\\sklearn\\neighbors\\_classification.py:239: DataConversionWarning: A column-vector y was passed when a 1d array was expected. Please change the shape of y to (n_samples,), for example using ravel().\n",
      "  return self._fit(X, y)\n",
      "C:\\Users\\danba\\AppData\\Local\\Packages\\PythonSoftwareFoundation.Python.3.12_qbz5n2kfra8p0\\LocalCache\\local-packages\\Python312\\site-packages\\sklearn\\neighbors\\_classification.py:239: DataConversionWarning: A column-vector y was passed when a 1d array was expected. Please change the shape of y to (n_samples,), for example using ravel().\n",
      "  return self._fit(X, y)\n",
      "C:\\Users\\danba\\AppData\\Local\\Packages\\PythonSoftwareFoundation.Python.3.12_qbz5n2kfra8p0\\LocalCache\\local-packages\\Python312\\site-packages\\sklearn\\neighbors\\_classification.py:239: DataConversionWarning: A column-vector y was passed when a 1d array was expected. Please change the shape of y to (n_samples,), for example using ravel().\n",
      "  return self._fit(X, y)\n",
      "C:\\Users\\danba\\AppData\\Local\\Packages\\PythonSoftwareFoundation.Python.3.12_qbz5n2kfra8p0\\LocalCache\\local-packages\\Python312\\site-packages\\sklearn\\neighbors\\_classification.py:239: DataConversionWarning: A column-vector y was passed when a 1d array was expected. Please change the shape of y to (n_samples,), for example using ravel().\n",
      "  return self._fit(X, y)\n",
      "C:\\Users\\danba\\AppData\\Local\\Packages\\PythonSoftwareFoundation.Python.3.12_qbz5n2kfra8p0\\LocalCache\\local-packages\\Python312\\site-packages\\sklearn\\neighbors\\_classification.py:239: DataConversionWarning: A column-vector y was passed when a 1d array was expected. Please change the shape of y to (n_samples,), for example using ravel().\n",
      "  return self._fit(X, y)\n",
      "C:\\Users\\danba\\AppData\\Local\\Packages\\PythonSoftwareFoundation.Python.3.12_qbz5n2kfra8p0\\LocalCache\\local-packages\\Python312\\site-packages\\sklearn\\neighbors\\_classification.py:239: DataConversionWarning: A column-vector y was passed when a 1d array was expected. Please change the shape of y to (n_samples,), for example using ravel().\n",
      "  return self._fit(X, y)\n",
      "C:\\Users\\danba\\AppData\\Local\\Packages\\PythonSoftwareFoundation.Python.3.12_qbz5n2kfra8p0\\LocalCache\\local-packages\\Python312\\site-packages\\sklearn\\neighbors\\_classification.py:239: DataConversionWarning: A column-vector y was passed when a 1d array was expected. Please change the shape of y to (n_samples,), for example using ravel().\n",
      "  return self._fit(X, y)\n",
      "C:\\Users\\danba\\AppData\\Local\\Packages\\PythonSoftwareFoundation.Python.3.12_qbz5n2kfra8p0\\LocalCache\\local-packages\\Python312\\site-packages\\sklearn\\neighbors\\_classification.py:239: DataConversionWarning: A column-vector y was passed when a 1d array was expected. Please change the shape of y to (n_samples,), for example using ravel().\n",
      "  return self._fit(X, y)\n",
      "C:\\Users\\danba\\AppData\\Local\\Packages\\PythonSoftwareFoundation.Python.3.12_qbz5n2kfra8p0\\LocalCache\\local-packages\\Python312\\site-packages\\sklearn\\neighbors\\_classification.py:239: DataConversionWarning: A column-vector y was passed when a 1d array was expected. Please change the shape of y to (n_samples,), for example using ravel().\n",
      "  return self._fit(X, y)\n",
      "C:\\Users\\danba\\AppData\\Local\\Packages\\PythonSoftwareFoundation.Python.3.12_qbz5n2kfra8p0\\LocalCache\\local-packages\\Python312\\site-packages\\sklearn\\neighbors\\_classification.py:239: DataConversionWarning: A column-vector y was passed when a 1d array was expected. Please change the shape of y to (n_samples,), for example using ravel().\n",
      "  return self._fit(X, y)\n",
      "C:\\Users\\danba\\AppData\\Local\\Packages\\PythonSoftwareFoundation.Python.3.12_qbz5n2kfra8p0\\LocalCache\\local-packages\\Python312\\site-packages\\sklearn\\neighbors\\_classification.py:239: DataConversionWarning: A column-vector y was passed when a 1d array was expected. Please change the shape of y to (n_samples,), for example using ravel().\n",
      "  return self._fit(X, y)\n",
      "C:\\Users\\danba\\AppData\\Local\\Packages\\PythonSoftwareFoundation.Python.3.12_qbz5n2kfra8p0\\LocalCache\\local-packages\\Python312\\site-packages\\sklearn\\neighbors\\_classification.py:239: DataConversionWarning: A column-vector y was passed when a 1d array was expected. Please change the shape of y to (n_samples,), for example using ravel().\n",
      "  return self._fit(X, y)\n",
      "C:\\Users\\danba\\AppData\\Local\\Packages\\PythonSoftwareFoundation.Python.3.12_qbz5n2kfra8p0\\LocalCache\\local-packages\\Python312\\site-packages\\sklearn\\neighbors\\_classification.py:239: DataConversionWarning: A column-vector y was passed when a 1d array was expected. Please change the shape of y to (n_samples,), for example using ravel().\n",
      "  return self._fit(X, y)\n",
      "C:\\Users\\danba\\AppData\\Local\\Packages\\PythonSoftwareFoundation.Python.3.12_qbz5n2kfra8p0\\LocalCache\\local-packages\\Python312\\site-packages\\sklearn\\neighbors\\_classification.py:239: DataConversionWarning: A column-vector y was passed when a 1d array was expected. Please change the shape of y to (n_samples,), for example using ravel().\n",
      "  return self._fit(X, y)\n",
      "C:\\Users\\danba\\AppData\\Local\\Packages\\PythonSoftwareFoundation.Python.3.12_qbz5n2kfra8p0\\LocalCache\\local-packages\\Python312\\site-packages\\sklearn\\neighbors\\_classification.py:239: DataConversionWarning: A column-vector y was passed when a 1d array was expected. Please change the shape of y to (n_samples,), for example using ravel().\n",
      "  return self._fit(X, y)\n",
      "C:\\Users\\danba\\AppData\\Local\\Packages\\PythonSoftwareFoundation.Python.3.12_qbz5n2kfra8p0\\LocalCache\\local-packages\\Python312\\site-packages\\sklearn\\neighbors\\_classification.py:239: DataConversionWarning: A column-vector y was passed when a 1d array was expected. Please change the shape of y to (n_samples,), for example using ravel().\n",
      "  return self._fit(X, y)\n",
      "C:\\Users\\danba\\AppData\\Local\\Packages\\PythonSoftwareFoundation.Python.3.12_qbz5n2kfra8p0\\LocalCache\\local-packages\\Python312\\site-packages\\sklearn\\neighbors\\_classification.py:239: DataConversionWarning: A column-vector y was passed when a 1d array was expected. Please change the shape of y to (n_samples,), for example using ravel().\n",
      "  return self._fit(X, y)\n",
      "C:\\Users\\danba\\AppData\\Local\\Packages\\PythonSoftwareFoundation.Python.3.12_qbz5n2kfra8p0\\LocalCache\\local-packages\\Python312\\site-packages\\sklearn\\neighbors\\_classification.py:239: DataConversionWarning: A column-vector y was passed when a 1d array was expected. Please change the shape of y to (n_samples,), for example using ravel().\n",
      "  return self._fit(X, y)\n",
      "C:\\Users\\danba\\AppData\\Local\\Packages\\PythonSoftwareFoundation.Python.3.12_qbz5n2kfra8p0\\LocalCache\\local-packages\\Python312\\site-packages\\sklearn\\neighbors\\_classification.py:239: DataConversionWarning: A column-vector y was passed when a 1d array was expected. Please change the shape of y to (n_samples,), for example using ravel().\n",
      "  return self._fit(X, y)\n",
      "C:\\Users\\danba\\AppData\\Local\\Packages\\PythonSoftwareFoundation.Python.3.12_qbz5n2kfra8p0\\LocalCache\\local-packages\\Python312\\site-packages\\sklearn\\neighbors\\_classification.py:239: DataConversionWarning: A column-vector y was passed when a 1d array was expected. Please change the shape of y to (n_samples,), for example using ravel().\n",
      "  return self._fit(X, y)\n",
      "C:\\Users\\danba\\AppData\\Local\\Packages\\PythonSoftwareFoundation.Python.3.12_qbz5n2kfra8p0\\LocalCache\\local-packages\\Python312\\site-packages\\sklearn\\neighbors\\_classification.py:239: DataConversionWarning: A column-vector y was passed when a 1d array was expected. Please change the shape of y to (n_samples,), for example using ravel().\n",
      "  return self._fit(X, y)\n",
      "C:\\Users\\danba\\AppData\\Local\\Packages\\PythonSoftwareFoundation.Python.3.12_qbz5n2kfra8p0\\LocalCache\\local-packages\\Python312\\site-packages\\sklearn\\neighbors\\_classification.py:239: DataConversionWarning: A column-vector y was passed when a 1d array was expected. Please change the shape of y to (n_samples,), for example using ravel().\n",
      "  return self._fit(X, y)\n",
      "C:\\Users\\danba\\AppData\\Local\\Packages\\PythonSoftwareFoundation.Python.3.12_qbz5n2kfra8p0\\LocalCache\\local-packages\\Python312\\site-packages\\sklearn\\neighbors\\_classification.py:239: DataConversionWarning: A column-vector y was passed when a 1d array was expected. Please change the shape of y to (n_samples,), for example using ravel().\n",
      "  return self._fit(X, y)\n",
      "C:\\Users\\danba\\AppData\\Local\\Packages\\PythonSoftwareFoundation.Python.3.12_qbz5n2kfra8p0\\LocalCache\\local-packages\\Python312\\site-packages\\sklearn\\neighbors\\_classification.py:239: DataConversionWarning: A column-vector y was passed when a 1d array was expected. Please change the shape of y to (n_samples,), for example using ravel().\n",
      "  return self._fit(X, y)\n",
      "C:\\Users\\danba\\AppData\\Local\\Packages\\PythonSoftwareFoundation.Python.3.12_qbz5n2kfra8p0\\LocalCache\\local-packages\\Python312\\site-packages\\sklearn\\neighbors\\_classification.py:239: DataConversionWarning: A column-vector y was passed when a 1d array was expected. Please change the shape of y to (n_samples,), for example using ravel().\n",
      "  return self._fit(X, y)\n",
      "C:\\Users\\danba\\AppData\\Local\\Packages\\PythonSoftwareFoundation.Python.3.12_qbz5n2kfra8p0\\LocalCache\\local-packages\\Python312\\site-packages\\sklearn\\neighbors\\_classification.py:239: DataConversionWarning: A column-vector y was passed when a 1d array was expected. Please change the shape of y to (n_samples,), for example using ravel().\n",
      "  return self._fit(X, y)\n",
      "C:\\Users\\danba\\AppData\\Local\\Packages\\PythonSoftwareFoundation.Python.3.12_qbz5n2kfra8p0\\LocalCache\\local-packages\\Python312\\site-packages\\sklearn\\neighbors\\_classification.py:239: DataConversionWarning: A column-vector y was passed when a 1d array was expected. Please change the shape of y to (n_samples,), for example using ravel().\n",
      "  return self._fit(X, y)\n",
      "C:\\Users\\danba\\AppData\\Local\\Packages\\PythonSoftwareFoundation.Python.3.12_qbz5n2kfra8p0\\LocalCache\\local-packages\\Python312\\site-packages\\sklearn\\neighbors\\_classification.py:239: DataConversionWarning: A column-vector y was passed when a 1d array was expected. Please change the shape of y to (n_samples,), for example using ravel().\n",
      "  return self._fit(X, y)\n",
      "C:\\Users\\danba\\AppData\\Local\\Packages\\PythonSoftwareFoundation.Python.3.12_qbz5n2kfra8p0\\LocalCache\\local-packages\\Python312\\site-packages\\sklearn\\neighbors\\_classification.py:239: DataConversionWarning: A column-vector y was passed when a 1d array was expected. Please change the shape of y to (n_samples,), for example using ravel().\n",
      "  return self._fit(X, y)\n",
      "C:\\Users\\danba\\AppData\\Local\\Packages\\PythonSoftwareFoundation.Python.3.12_qbz5n2kfra8p0\\LocalCache\\local-packages\\Python312\\site-packages\\sklearn\\neighbors\\_classification.py:239: DataConversionWarning: A column-vector y was passed when a 1d array was expected. Please change the shape of y to (n_samples,), for example using ravel().\n",
      "  return self._fit(X, y)\n",
      "C:\\Users\\danba\\AppData\\Local\\Packages\\PythonSoftwareFoundation.Python.3.12_qbz5n2kfra8p0\\LocalCache\\local-packages\\Python312\\site-packages\\sklearn\\neighbors\\_classification.py:239: DataConversionWarning: A column-vector y was passed when a 1d array was expected. Please change the shape of y to (n_samples,), for example using ravel().\n",
      "  return self._fit(X, y)\n",
      "C:\\Users\\danba\\AppData\\Local\\Packages\\PythonSoftwareFoundation.Python.3.12_qbz5n2kfra8p0\\LocalCache\\local-packages\\Python312\\site-packages\\sklearn\\neighbors\\_classification.py:239: DataConversionWarning: A column-vector y was passed when a 1d array was expected. Please change the shape of y to (n_samples,), for example using ravel().\n",
      "  return self._fit(X, y)\n",
      "C:\\Users\\danba\\AppData\\Local\\Packages\\PythonSoftwareFoundation.Python.3.12_qbz5n2kfra8p0\\LocalCache\\local-packages\\Python312\\site-packages\\sklearn\\neighbors\\_classification.py:239: DataConversionWarning: A column-vector y was passed when a 1d array was expected. Please change the shape of y to (n_samples,), for example using ravel().\n",
      "  return self._fit(X, y)\n",
      "C:\\Users\\danba\\AppData\\Local\\Packages\\PythonSoftwareFoundation.Python.3.12_qbz5n2kfra8p0\\LocalCache\\local-packages\\Python312\\site-packages\\sklearn\\neighbors\\_classification.py:239: DataConversionWarning: A column-vector y was passed when a 1d array was expected. Please change the shape of y to (n_samples,), for example using ravel().\n",
      "  return self._fit(X, y)\n",
      "C:\\Users\\danba\\AppData\\Local\\Packages\\PythonSoftwareFoundation.Python.3.12_qbz5n2kfra8p0\\LocalCache\\local-packages\\Python312\\site-packages\\sklearn\\neighbors\\_classification.py:239: DataConversionWarning: A column-vector y was passed when a 1d array was expected. Please change the shape of y to (n_samples,), for example using ravel().\n",
      "  return self._fit(X, y)\n",
      "C:\\Users\\danba\\AppData\\Local\\Packages\\PythonSoftwareFoundation.Python.3.12_qbz5n2kfra8p0\\LocalCache\\local-packages\\Python312\\site-packages\\sklearn\\neighbors\\_classification.py:239: DataConversionWarning: A column-vector y was passed when a 1d array was expected. Please change the shape of y to (n_samples,), for example using ravel().\n",
      "  return self._fit(X, y)\n",
      "C:\\Users\\danba\\AppData\\Local\\Packages\\PythonSoftwareFoundation.Python.3.12_qbz5n2kfra8p0\\LocalCache\\local-packages\\Python312\\site-packages\\sklearn\\neighbors\\_classification.py:239: DataConversionWarning: A column-vector y was passed when a 1d array was expected. Please change the shape of y to (n_samples,), for example using ravel().\n",
      "  return self._fit(X, y)\n",
      "C:\\Users\\danba\\AppData\\Local\\Packages\\PythonSoftwareFoundation.Python.3.12_qbz5n2kfra8p0\\LocalCache\\local-packages\\Python312\\site-packages\\sklearn\\neighbors\\_classification.py:239: DataConversionWarning: A column-vector y was passed when a 1d array was expected. Please change the shape of y to (n_samples,), for example using ravel().\n",
      "  return self._fit(X, y)\n",
      "C:\\Users\\danba\\AppData\\Local\\Packages\\PythonSoftwareFoundation.Python.3.12_qbz5n2kfra8p0\\LocalCache\\local-packages\\Python312\\site-packages\\sklearn\\neighbors\\_classification.py:239: DataConversionWarning: A column-vector y was passed when a 1d array was expected. Please change the shape of y to (n_samples,), for example using ravel().\n",
      "  return self._fit(X, y)\n",
      "C:\\Users\\danba\\AppData\\Local\\Packages\\PythonSoftwareFoundation.Python.3.12_qbz5n2kfra8p0\\LocalCache\\local-packages\\Python312\\site-packages\\sklearn\\neighbors\\_classification.py:239: DataConversionWarning: A column-vector y was passed when a 1d array was expected. Please change the shape of y to (n_samples,), for example using ravel().\n",
      "  return self._fit(X, y)\n",
      "C:\\Users\\danba\\AppData\\Local\\Packages\\PythonSoftwareFoundation.Python.3.12_qbz5n2kfra8p0\\LocalCache\\local-packages\\Python312\\site-packages\\sklearn\\neighbors\\_classification.py:239: DataConversionWarning: A column-vector y was passed when a 1d array was expected. Please change the shape of y to (n_samples,), for example using ravel().\n",
      "  return self._fit(X, y)\n",
      "C:\\Users\\danba\\AppData\\Local\\Packages\\PythonSoftwareFoundation.Python.3.12_qbz5n2kfra8p0\\LocalCache\\local-packages\\Python312\\site-packages\\sklearn\\neighbors\\_classification.py:239: DataConversionWarning: A column-vector y was passed when a 1d array was expected. Please change the shape of y to (n_samples,), for example using ravel().\n",
      "  return self._fit(X, y)\n",
      "C:\\Users\\danba\\AppData\\Local\\Packages\\PythonSoftwareFoundation.Python.3.12_qbz5n2kfra8p0\\LocalCache\\local-packages\\Python312\\site-packages\\sklearn\\neighbors\\_classification.py:239: DataConversionWarning: A column-vector y was passed when a 1d array was expected. Please change the shape of y to (n_samples,), for example using ravel().\n",
      "  return self._fit(X, y)\n",
      "C:\\Users\\danba\\AppData\\Local\\Packages\\PythonSoftwareFoundation.Python.3.12_qbz5n2kfra8p0\\LocalCache\\local-packages\\Python312\\site-packages\\sklearn\\neighbors\\_classification.py:239: DataConversionWarning: A column-vector y was passed when a 1d array was expected. Please change the shape of y to (n_samples,), for example using ravel().\n",
      "  return self._fit(X, y)\n"
     ]
    },
    {
     "name": "stdout",
     "output_type": "stream",
     "text": [
      "Best n_neighbors: {'n_neighbors': 1}\n"
     ]
    },
    {
     "name": "stderr",
     "output_type": "stream",
     "text": [
      "C:\\Users\\danba\\AppData\\Local\\Packages\\PythonSoftwareFoundation.Python.3.12_qbz5n2kfra8p0\\LocalCache\\local-packages\\Python312\\site-packages\\sklearn\\neighbors\\_classification.py:239: DataConversionWarning: A column-vector y was passed when a 1d array was expected. Please change the shape of y to (n_samples,), for example using ravel().\n",
      "  return self._fit(X, y)\n",
      "C:\\Users\\danba\\AppData\\Local\\Packages\\PythonSoftwareFoundation.Python.3.12_qbz5n2kfra8p0\\LocalCache\\local-packages\\Python312\\site-packages\\sklearn\\neighbors\\_classification.py:239: DataConversionWarning: A column-vector y was passed when a 1d array was expected. Please change the shape of y to (n_samples,), for example using ravel().\n",
      "  return self._fit(X, y)\n",
      "C:\\Users\\danba\\AppData\\Local\\Packages\\PythonSoftwareFoundation.Python.3.12_qbz5n2kfra8p0\\LocalCache\\local-packages\\Python312\\site-packages\\sklearn\\neighbors\\_classification.py:239: DataConversionWarning: A column-vector y was passed when a 1d array was expected. Please change the shape of y to (n_samples,), for example using ravel().\n",
      "  return self._fit(X, y)\n",
      "C:\\Users\\danba\\AppData\\Local\\Packages\\PythonSoftwareFoundation.Python.3.12_qbz5n2kfra8p0\\LocalCache\\local-packages\\Python312\\site-packages\\sklearn\\neighbors\\_classification.py:239: DataConversionWarning: A column-vector y was passed when a 1d array was expected. Please change the shape of y to (n_samples,), for example using ravel().\n",
      "  return self._fit(X, y)\n"
     ]
    }
   ],
   "source": [
    "from sklearn.model_selection import GridSearchCV\n",
    "from sklearn.preprocessing import StandardScaler\n",
    "scaler = StandardScaler()\n",
    "X_scaled = scaler.fit_transform(X)\n",
    "\n",
    "param_grid = {'n_neighbors': range(1, 20)}\n",
    "gridsearch = GridSearchCV(KNeighborsClassifier(), param_grid, cv=5)\n",
    "gridsearch.fit(X_scaled, y)\n",
    "print(\"Best n_neighbors:\", gridsearch.best_params_)"
   ]
  },
  {
   "cell_type": "markdown",
   "metadata": {},
   "source": [
    "Used a Standard Scaler attempting to improve the prformance of this LDA model"
   ]
  },
  {
   "cell_type": "code",
   "execution_count": 37,
   "metadata": {},
   "outputs": [
    {
     "name": "stdout",
     "output_type": "stream",
     "text": [
      "[0.11509146 0.13871951]\n",
      "Mean test score: 0.12690548780487806\n"
     ]
    },
    {
     "name": "stderr",
     "output_type": "stream",
     "text": [
      "C:\\Users\\danba\\AppData\\Local\\Packages\\PythonSoftwareFoundation.Python.3.12_qbz5n2kfra8p0\\LocalCache\\local-packages\\Python312\\site-packages\\sklearn\\preprocessing\\_label.py:110: DataConversionWarning: A column-vector y was passed when a 1d array was expected. Please change the shape of y to (n_samples, ), for example using ravel().\n",
      "  y = column_or_1d(y, warn=True)\n"
     ]
    }
   ],
   "source": [
    "from sklearn.model_selection import cross_validate\n",
    "from sklearn.discriminant_analysis import LinearDiscriminantAnalysis\n",
    "from sklearn.model_selection import StratifiedKFold\n",
    "from sklearn.preprocessing import StandardScaler\n",
    "scaler = StandardScaler()\n",
    "X_scaled = scaler.fit_transform(X)\n",
    "\n",
    "label_encoder = LabelEncoder()\n",
    "y_encoded = label_encoder.fit_transform(y)\n",
    "y_encoded = y_encoded.ravel()\n",
    "\n",
    "\n",
    "model = LinearDiscriminantAnalysis()\n",
    "\n",
    "# split the data into two folds while maintaining the class distribution. The least populated class has only two members so the split cannot be greater than 2\n",
    "skf = StratifiedKFold(n_splits=2)\n",
    "cv1 = cross_validate(model, X_scaled, y_encoded, cv=skf)\n",
    "\n",
    "# print test scores\n",
    "print(cv1['test_score'])\n",
    "print(f\"Mean test score: {cv1['test_score'].mean()}\")\n"
   ]
  },
  {
   "cell_type": "markdown",
   "metadata": {},
   "source": [
    "This LDA model is a control to evaluate the performance of paramater change experiements for LDA Models"
   ]
  },
  {
   "cell_type": "code",
   "execution_count": 41,
   "metadata": {},
   "outputs": [
    {
     "name": "stdout",
     "output_type": "stream",
     "text": [
      "[0.11509146 0.13871951]\n",
      "Mean test score: 0.12690548780487806\n"
     ]
    },
    {
     "name": "stderr",
     "output_type": "stream",
     "text": [
      "C:\\Users\\danba\\AppData\\Local\\Packages\\PythonSoftwareFoundation.Python.3.12_qbz5n2kfra8p0\\LocalCache\\local-packages\\Python312\\site-packages\\sklearn\\preprocessing\\_label.py:110: DataConversionWarning: A column-vector y was passed when a 1d array was expected. Please change the shape of y to (n_samples, ), for example using ravel().\n",
      "  y = column_or_1d(y, warn=True)\n"
     ]
    }
   ],
   "source": [
    "from sklearn.model_selection import cross_validate\n",
    "from sklearn.discriminant_analysis import LinearDiscriminantAnalysis\n",
    "from sklearn.model_selection import StratifiedKFold\n",
    "\n",
    "\n",
    "label_encoder = LabelEncoder()\n",
    "y_encoded = label_encoder.fit_transform(y)\n",
    "y_encoded = y_encoded.ravel()\n",
    "\n",
    "model = LinearDiscriminantAnalysis()\n",
    "\n",
    "# split the data into two folds while maintaining the class distribution. The least populated class has only two members so the split cannot be greater than 2\n",
    "skf = StratifiedKFold(n_splits=2)\n",
    "cv1 = cross_validate(model, X, y_encoded, cv=skf)\n",
    "\n",
    "# print test scores\n",
    "print(cv1['test_score'])\n",
    "print(f\"Mean test score: {cv1['test_score'].mean()}\")"
   ]
  },
  {
   "cell_type": "markdown",
   "metadata": {},
   "source": [
    "This LDA Model has parameter changes in the solver"
   ]
  },
  {
   "cell_type": "code",
   "execution_count": 40,
   "metadata": {},
   "outputs": [
    {
     "name": "stdout",
     "output_type": "stream",
     "text": [
      "[0.11280488 0.13414634]\n",
      "Mean test score: 0.12347560975609756\n"
     ]
    },
    {
     "name": "stderr",
     "output_type": "stream",
     "text": [
      "C:\\Users\\danba\\AppData\\Local\\Packages\\PythonSoftwareFoundation.Python.3.12_qbz5n2kfra8p0\\LocalCache\\local-packages\\Python312\\site-packages\\sklearn\\preprocessing\\_label.py:110: DataConversionWarning: A column-vector y was passed when a 1d array was expected. Please change the shape of y to (n_samples, ), for example using ravel().\n",
      "  y = column_or_1d(y, warn=True)\n",
      "C:\\Users\\danba\\AppData\\Local\\Packages\\PythonSoftwareFoundation.Python.3.12_qbz5n2kfra8p0\\LocalCache\\local-packages\\Python312\\site-packages\\sklearn\\covariance\\_shrunk_covariance.py:349: UserWarning: Only one sample available. You may want to reshape your data array\n",
      "  warnings.warn(\n",
      "C:\\Users\\danba\\AppData\\Local\\Packages\\PythonSoftwareFoundation.Python.3.12_qbz5n2kfra8p0\\LocalCache\\local-packages\\Python312\\site-packages\\sklearn\\covariance\\_empirical_covariance.py:102: UserWarning: Only one sample available. You may want to reshape your data array\n",
      "  warnings.warn(\n",
      "C:\\Users\\danba\\AppData\\Local\\Packages\\PythonSoftwareFoundation.Python.3.12_qbz5n2kfra8p0\\LocalCache\\local-packages\\Python312\\site-packages\\sklearn\\covariance\\_shrunk_covariance.py:349: UserWarning: Only one sample available. You may want to reshape your data array\n",
      "  warnings.warn(\n",
      "C:\\Users\\danba\\AppData\\Local\\Packages\\PythonSoftwareFoundation.Python.3.12_qbz5n2kfra8p0\\LocalCache\\local-packages\\Python312\\site-packages\\sklearn\\covariance\\_empirical_covariance.py:102: UserWarning: Only one sample available. You may want to reshape your data array\n",
      "  warnings.warn(\n",
      "C:\\Users\\danba\\AppData\\Local\\Packages\\PythonSoftwareFoundation.Python.3.12_qbz5n2kfra8p0\\LocalCache\\local-packages\\Python312\\site-packages\\sklearn\\covariance\\_shrunk_covariance.py:349: UserWarning: Only one sample available. You may want to reshape your data array\n",
      "  warnings.warn(\n",
      "C:\\Users\\danba\\AppData\\Local\\Packages\\PythonSoftwareFoundation.Python.3.12_qbz5n2kfra8p0\\LocalCache\\local-packages\\Python312\\site-packages\\sklearn\\covariance\\_empirical_covariance.py:102: UserWarning: Only one sample available. You may want to reshape your data array\n",
      "  warnings.warn(\n",
      "C:\\Users\\danba\\AppData\\Local\\Packages\\PythonSoftwareFoundation.Python.3.12_qbz5n2kfra8p0\\LocalCache\\local-packages\\Python312\\site-packages\\sklearn\\covariance\\_shrunk_covariance.py:349: UserWarning: Only one sample available. You may want to reshape your data array\n",
      "  warnings.warn(\n",
      "C:\\Users\\danba\\AppData\\Local\\Packages\\PythonSoftwareFoundation.Python.3.12_qbz5n2kfra8p0\\LocalCache\\local-packages\\Python312\\site-packages\\sklearn\\covariance\\_empirical_covariance.py:102: UserWarning: Only one sample available. You may want to reshape your data array\n",
      "  warnings.warn(\n",
      "C:\\Users\\danba\\AppData\\Local\\Packages\\PythonSoftwareFoundation.Python.3.12_qbz5n2kfra8p0\\LocalCache\\local-packages\\Python312\\site-packages\\sklearn\\covariance\\_shrunk_covariance.py:349: UserWarning: Only one sample available. You may want to reshape your data array\n",
      "  warnings.warn(\n",
      "C:\\Users\\danba\\AppData\\Local\\Packages\\PythonSoftwareFoundation.Python.3.12_qbz5n2kfra8p0\\LocalCache\\local-packages\\Python312\\site-packages\\sklearn\\covariance\\_empirical_covariance.py:102: UserWarning: Only one sample available. You may want to reshape your data array\n",
      "  warnings.warn(\n"
     ]
    }
   ],
   "source": [
    "from sklearn.model_selection import cross_validate\n",
    "from sklearn.discriminant_analysis import LinearDiscriminantAnalysis\n",
    "from sklearn.model_selection import StratifiedKFold\n",
    "\n",
    "\n",
    "label_encoder = LabelEncoder()\n",
    "y_encoded = label_encoder.fit_transform(y)\n",
    "y_encoded = y_encoded.ravel()\n",
    "\n",
    "model = LinearDiscriminantAnalysis(solver='eigen', shrinkage='auto')\n",
    "\n",
    "# split the data into two folds while maintaining the class distribution. The least populated class has only two members so the split cannot be greater than 2\n",
    "skf = StratifiedKFold(n_splits=2)\n",
    "cv1 = cross_validate(model, X, y_encoded, cv=skf)\n",
    "\n",
    "# print test scores\n",
    "print(cv1['test_score'])\n",
    "print(f\"Mean test score: {cv1['test_score'].mean()}\")"
   ]
  },
  {
   "cell_type": "markdown",
   "metadata": {},
   "source": [
    "This is a control for experiements with parameters for Decision Tree Classifiers"
   ]
  },
  {
   "cell_type": "code",
   "execution_count": 42,
   "metadata": {},
   "outputs": [
    {
     "name": "stdout",
     "output_type": "stream",
     "text": [
      "[0.89481707 0.90167683]\n",
      "Mean test score: 0.8982469512195121\n"
     ]
    }
   ],
   "source": [
    "from sklearn.model_selection import cross_validate\n",
    "from sklearn.tree import DecisionTreeClassifier\n",
    "from sklearn.model_selection import StratifiedKFold\n",
    "\n",
    "\n",
    "model = DecisionTreeClassifier()\n",
    "\n",
    "# split the data into two folds while maintaining the class distribution. The least populated class has only two members so the split cannot be greater than 2\n",
    "skf = StratifiedKFold(n_splits=2)\n",
    "cv1 = cross_validate(model, X, y, cv=skf)\n",
    "\n",
    "# print test scores\n",
    "print(cv1['test_score'])\n",
    "print(f\"Mean test score: {cv1['test_score'].mean()}\")"
   ]
  },
  {
   "cell_type": "markdown",
   "metadata": {},
   "source": [
    "Experiement for Decision Tree Classifier model with Random Forest Classifier parameters - selected the 5 most imprtant features for the Random Forest Classifier"
   ]
  },
  {
   "cell_type": "code",
   "execution_count": 43,
   "metadata": {},
   "outputs": [
    {
     "name": "stderr",
     "output_type": "stream",
     "text": [
      "C:\\Users\\danba\\AppData\\Local\\Packages\\PythonSoftwareFoundation.Python.3.12_qbz5n2kfra8p0\\LocalCache\\local-packages\\Python312\\site-packages\\sklearn\\base.py:1389: DataConversionWarning: A column-vector y was passed when a 1d array was expected. Please change the shape of y to (n_samples,), for example using ravel().\n",
      "  return fit_method(estimator, *args, **kwargs)\n",
      "C:\\Users\\danba\\AppData\\Local\\Packages\\PythonSoftwareFoundation.Python.3.12_qbz5n2kfra8p0\\LocalCache\\local-packages\\Python312\\site-packages\\sklearn\\base.py:1389: DataConversionWarning: A column-vector y was passed when a 1d array was expected. Please change the shape of y to (n_samples,), for example using ravel().\n",
      "  return fit_method(estimator, *args, **kwargs)\n"
     ]
    },
    {
     "name": "stdout",
     "output_type": "stream",
     "text": [
      "[0.89481707 0.90243902]\n",
      "Mean test score: 0.8986280487804879\n"
     ]
    }
   ],
   "source": [
    "from sklearn.model_selection import cross_validate\n",
    "from sklearn.tree import DecisionTreeClassifier\n",
    "from sklearn.model_selection import StratifiedKFold\n",
    "from sklearn.feature_selection import RFE\n",
    "from sklearn.ensemble import RandomForestClassifier\n",
    "\n",
    "selector = RFE(RandomForestClassifier(), n_features_to_select=5)\n",
    "X_selected = selector.fit_transform(X, y)\n",
    "\n",
    "model = DecisionTreeClassifier()\n",
    "\n",
    "# split the data into two folds while maintaining the class distribution. The least populated class has only two members so the split cannot be greater than 2\n",
    "skf = StratifiedKFold(n_splits=2)\n",
    "cv1 = cross_validate(model, X_selected, y, cv=skf)\n",
    "\n",
    "# print test scores\n",
    "print(cv1['test_score'])\n",
    "print(f\"Mean test score: {cv1['test_score'].mean()}\")"
   ]
  },
  {
   "cell_type": "markdown",
   "metadata": {},
   "source": [
    "Experiement for Decision Tree Classifier model changing parameters based on results from the Grid Search"
   ]
  },
  {
   "cell_type": "code",
   "execution_count": 44,
   "metadata": {},
   "outputs": [
    {
     "name": "stdout",
     "output_type": "stream",
     "text": [
      "[0.79420732 0.80030488]\n",
      "Mean test score: 0.7972560975609756\n"
     ]
    }
   ],
   "source": [
    "from sklearn.model_selection import cross_validate\n",
    "from sklearn.tree import DecisionTreeClassifier\n",
    "from sklearn.model_selection import StratifiedKFold\n",
    "\n",
    "\n",
    "model = DecisionTreeClassifier(max_depth=10, min_samples_split=2, min_samples_leaf=1, criterion='entropy')\n",
    "\n",
    "# split the data into two folds while maintaining the class distribution. The least populated class has only two members so the split cannot be greater than 2\n",
    "skf = StratifiedKFold(n_splits=2)\n",
    "cv1 = cross_validate(model, X, y, cv=skf)\n",
    "\n",
    "# print test scores\n",
    "print(cv1['test_score'])\n",
    "print(f\"Mean test score: {cv1['test_score'].mean()}\")"
   ]
  },
  {
   "cell_type": "markdown",
   "metadata": {},
   "source": [
    "Experiement for Decision Tree Classifier model - Grid Search identifying the best combination of parameters from those available in the grid"
   ]
  },
  {
   "cell_type": "code",
   "execution_count": 45,
   "metadata": {},
   "outputs": [
    {
     "name": "stderr",
     "output_type": "stream",
     "text": [
      "C:\\Users\\danba\\AppData\\Local\\Packages\\PythonSoftwareFoundation.Python.3.12_qbz5n2kfra8p0\\LocalCache\\local-packages\\Python312\\site-packages\\sklearn\\model_selection\\_split.py:805: UserWarning: The least populated class in y has only 2 members, which is less than n_splits=5.\n",
      "  warnings.warn(\n"
     ]
    },
    {
     "name": "stdout",
     "output_type": "stream",
     "text": [
      "Best parameters: {'max_depth': 10, 'min_samples_leaf': 1, 'min_samples_split': 2}\n"
     ]
    }
   ],
   "source": [
    "from sklearn.model_selection import GridSearchCV\n",
    "\n",
    "param_grid = {'max_depth': [3, 5, 10], 'min_samples_split': [2, 5, 10], 'min_samples_leaf': [1, 5, 10]}\n",
    "\n",
    "grid_search = GridSearchCV(DecisionTreeClassifier(), param_grid, cv=5)\n",
    "grid_search.fit(X, y)\n",
    "print(\"Best parameters:\", grid_search.best_params_)"
   ]
  },
  {
   "cell_type": "markdown",
   "metadata": {},
   "source": [
    "Control for experiements for the XGBClassifier model"
   ]
  },
  {
   "cell_type": "code",
   "execution_count": 44,
   "metadata": {},
   "outputs": [
    {
     "name": "stderr",
     "output_type": "stream",
     "text": [
      "C:\\Users\\danba\\AppData\\Local\\Packages\\PythonSoftwareFoundation.Python.3.12_qbz5n2kfra8p0\\LocalCache\\local-packages\\Python312\\site-packages\\sklearn\\preprocessing\\_label.py:110: DataConversionWarning: A column-vector y was passed when a 1d array was expected. Please change the shape of y to (n_samples, ), for example using ravel().\n",
      "  y = column_or_1d(y, warn=True)\n"
     ]
    },
    {
     "name": "stdout",
     "output_type": "stream",
     "text": [
      "[0.89557927 0.90243902]\n",
      "Mean test score: 0.8990091463414634\n"
     ]
    }
   ],
   "source": [
    "from sklearn.model_selection import cross_validate, StratifiedKFold\n",
    "from xgboost import XGBClassifier\n",
    "from sklearn.preprocessing import LabelEncoder\n",
    "\n",
    "\n",
    "label_encoder = LabelEncoder()\n",
    "y_encoded = label_encoder.fit_transform(y)\n",
    "y_encoded = y_encoded.ravel()\n",
    "\n",
    "\n",
    "model = XGBClassifier()\n",
    "\n",
    "# split the data into two folds while maintaining the class distribution. The least populated class has only two members so the split cannot be greater than 2\n",
    "skf = StratifiedKFold(n_splits=2)\n",
    "cv1 = cross_validate(model, X, y_encoded, cv=skf)\n",
    "\n",
    "# print test scores\n",
    "print(cv1['test_score'])\n",
    "print(f\"Mean test score: {cv1['test_score'].mean()}\")\n"
   ]
  },
  {
   "cell_type": "markdown",
   "metadata": {},
   "source": [
    "Experiement with the XGBClassifier model with parameters identified in the Randomised Search in the next experiment"
   ]
  },
  {
   "cell_type": "code",
   "execution_count": 45,
   "metadata": {},
   "outputs": [
    {
     "name": "stderr",
     "output_type": "stream",
     "text": [
      "C:\\Users\\danba\\AppData\\Local\\Packages\\PythonSoftwareFoundation.Python.3.12_qbz5n2kfra8p0\\LocalCache\\local-packages\\Python312\\site-packages\\sklearn\\preprocessing\\_label.py:110: DataConversionWarning: A column-vector y was passed when a 1d array was expected. Please change the shape of y to (n_samples, ), for example using ravel().\n",
      "  y = column_or_1d(y, warn=True)\n"
     ]
    },
    {
     "name": "stdout",
     "output_type": "stream",
     "text": [
      "[0.89634146 0.90472561]\n",
      "Mean test score: 0.900533536585366\n"
     ]
    }
   ],
   "source": [
    "from sklearn.model_selection import cross_validate, StratifiedKFold\n",
    "from xgboost import XGBClassifier\n",
    "from sklearn.preprocessing import LabelEncoder\n",
    "\n",
    "\n",
    "label_encoder = LabelEncoder()\n",
    "y_encoded = label_encoder.fit_transform(y)\n",
    "y_encoded = y_encoded.ravel()\n",
    "\n",
    "\n",
    "model = XGBClassifier(n_estimators=500, learning_rate=0.05, max_depth=6)\n",
    "\n",
    "# split the data into two folds while maintaining the class distribution. The least populated class has only two members so the split cannot be greater than 2\n",
    "skf = StratifiedKFold(n_splits=2)\n",
    "cv1 = cross_validate(model, X, y_encoded, cv=skf)\n",
    "\n",
    "# print test scores\n",
    "print(cv1['test_score'])\n",
    "print(f\"Mean test score: {cv1['test_score'].mean()}\")"
   ]
  },
  {
   "cell_type": "markdown",
   "metadata": {},
   "source": [
    "Randomised Search of a combinations of parameters provided in the grid to identify the optimal parameters for the XGBClassifier model"
   ]
  },
  {
   "cell_type": "code",
   "execution_count": 40,
   "metadata": {},
   "outputs": [
    {
     "name": "stdout",
     "output_type": "stream",
     "text": [
      "Fitting 2 folds for each of 10 candidates, totalling 20 fits\n",
      "Best parameters: {'n_estimators': 500, 'max_depth': 6, 'learning_rate': 0.05}\n"
     ]
    }
   ],
   "source": [
    "from xgboost import XGBClassifier\n",
    "from sklearn.model_selection import RandomizedSearchCV\n",
    "\n",
    "param_dist = {'n_estimators': [100, 300, 500], 'learning_rate': [0.01, 0.05, 0.1], 'max_depth': [3, 6, 9]}\n",
    "\n",
    "# RandomizedSearchCV - cv should not be greater than 2\n",
    "random_search = RandomizedSearchCV(XGBClassifier(), param_dist, cv=2, n_jobs=-1, verbose=1)\n",
    "\n",
    "random_search.fit(X, y_encoded)\n",
    "print(\"Best parameters:\", random_search.best_params_)"
   ]
  },
  {
   "cell_type": "markdown",
   "metadata": {},
   "source": [
    "Experiment with the XGBClassifier model using a Standard Scaler"
   ]
  },
  {
   "cell_type": "code",
   "execution_count": 46,
   "metadata": {},
   "outputs": [
    {
     "name": "stderr",
     "output_type": "stream",
     "text": [
      "C:\\Users\\danba\\AppData\\Local\\Packages\\PythonSoftwareFoundation.Python.3.12_qbz5n2kfra8p0\\LocalCache\\local-packages\\Python312\\site-packages\\sklearn\\preprocessing\\_label.py:110: DataConversionWarning: A column-vector y was passed when a 1d array was expected. Please change the shape of y to (n_samples, ), for example using ravel().\n",
      "  y = column_or_1d(y, warn=True)\n"
     ]
    },
    {
     "name": "stdout",
     "output_type": "stream",
     "text": [
      "[0.89557927 0.90243902]\n",
      "Mean test score: 0.8990091463414634\n"
     ]
    }
   ],
   "source": [
    "from sklearn.model_selection import cross_validate, StratifiedKFold\n",
    "from xgboost import XGBClassifier\n",
    "from sklearn.preprocessing import LabelEncoder\n",
    "from sklearn.preprocessing import StandardScaler\n",
    "\n",
    "\n",
    "label_encoder = LabelEncoder()\n",
    "y_encoded = label_encoder.fit_transform(y)\n",
    "y_encoded = y_encoded.ravel()\n",
    "scaler = StandardScaler()\n",
    "X_scaled = scaler.fit_transform(X)\n",
    "\n",
    "model = XGBClassifier()\n",
    "\n",
    "# split the data into two folds while maintaining the class distribution. The least populated class has only two members so the split cannot be greater than 2\n",
    "skf = StratifiedKFold(n_splits=2)\n",
    "cv1 = cross_validate(model, X_scaled, y_encoded, cv=skf)\n",
    "\n",
    "# print test scores\n",
    "print(cv1['test_score'])\n",
    "print(f\"Mean test score: {cv1['test_score'].mean()}\")"
   ]
  },
  {
   "cell_type": "markdown",
   "metadata": {},
   "source": [
    "Control for experiements for Logistic Regression model"
   ]
  },
  {
   "cell_type": "code",
   "execution_count": 47,
   "metadata": {},
   "outputs": [
    {
     "name": "stderr",
     "output_type": "stream",
     "text": [
      "C:\\Users\\danba\\AppData\\Local\\Packages\\PythonSoftwareFoundation.Python.3.12_qbz5n2kfra8p0\\LocalCache\\local-packages\\Python312\\site-packages\\sklearn\\utils\\validation.py:1408: DataConversionWarning: A column-vector y was passed when a 1d array was expected. Please change the shape of y to (n_samples, ), for example using ravel().\n",
      "  y = column_or_1d(y, warn=True)\n",
      "C:\\Users\\danba\\AppData\\Local\\Packages\\PythonSoftwareFoundation.Python.3.12_qbz5n2kfra8p0\\LocalCache\\local-packages\\Python312\\site-packages\\sklearn\\linear_model\\_logistic.py:465: ConvergenceWarning: lbfgs failed to converge (status=1):\n",
      "STOP: TOTAL NO. OF ITERATIONS REACHED LIMIT.\n",
      "\n",
      "Increase the number of iterations (max_iter) or scale the data as shown in:\n",
      "    https://scikit-learn.org/stable/modules/preprocessing.html\n",
      "Please also refer to the documentation for alternative solver options:\n",
      "    https://scikit-learn.org/stable/modules/linear_model.html#logistic-regression\n",
      "  n_iter_i = _check_optimize_result(\n",
      "C:\\Users\\danba\\AppData\\Local\\Packages\\PythonSoftwareFoundation.Python.3.12_qbz5n2kfra8p0\\LocalCache\\local-packages\\Python312\\site-packages\\sklearn\\utils\\validation.py:1408: DataConversionWarning: A column-vector y was passed when a 1d array was expected. Please change the shape of y to (n_samples, ), for example using ravel().\n",
      "  y = column_or_1d(y, warn=True)\n"
     ]
    },
    {
     "name": "stdout",
     "output_type": "stream",
     "text": [
      "[0.1097561  0.12271341]\n",
      "Mean test score: 0.11623475609756098\n"
     ]
    },
    {
     "name": "stderr",
     "output_type": "stream",
     "text": [
      "C:\\Users\\danba\\AppData\\Local\\Packages\\PythonSoftwareFoundation.Python.3.12_qbz5n2kfra8p0\\LocalCache\\local-packages\\Python312\\site-packages\\sklearn\\linear_model\\_logistic.py:465: ConvergenceWarning: lbfgs failed to converge (status=1):\n",
      "STOP: TOTAL NO. OF ITERATIONS REACHED LIMIT.\n",
      "\n",
      "Increase the number of iterations (max_iter) or scale the data as shown in:\n",
      "    https://scikit-learn.org/stable/modules/preprocessing.html\n",
      "Please also refer to the documentation for alternative solver options:\n",
      "    https://scikit-learn.org/stable/modules/linear_model.html#logistic-regression\n",
      "  n_iter_i = _check_optimize_result(\n"
     ]
    }
   ],
   "source": [
    "from sklearn.model_selection import cross_validate\n",
    "from sklearn.linear_model import LogisticRegression\n",
    "from sklearn.model_selection import StratifiedKFold\n",
    "\n",
    "\n",
    "model = LogisticRegression()\n",
    "\n",
    "# split the data into two folds while maintaining the class distribution. The least populated class has only two members so the split cannot be greater than 2\n",
    "skf = StratifiedKFold(n_splits=2)\n",
    "cv1 = cross_validate(model, X, y, cv=skf)\n",
    "\n",
    "# print test scores\n",
    "print(cv1['test_score'])\n",
    "print(f\"Mean test score: {cv1['test_score'].mean()}\")"
   ]
  },
  {
   "cell_type": "markdown",
   "metadata": {},
   "source": [
    "Experiment with Logistic Regression model and penalty parameter, 'l2' is the only variable I can get to work."
   ]
  },
  {
   "cell_type": "code",
   "execution_count": 48,
   "metadata": {},
   "outputs": [
    {
     "name": "stderr",
     "output_type": "stream",
     "text": [
      "C:\\Users\\danba\\AppData\\Local\\Packages\\PythonSoftwareFoundation.Python.3.12_qbz5n2kfra8p0\\LocalCache\\local-packages\\Python312\\site-packages\\sklearn\\utils\\validation.py:1408: DataConversionWarning: A column-vector y was passed when a 1d array was expected. Please change the shape of y to (n_samples, ), for example using ravel().\n",
      "  y = column_or_1d(y, warn=True)\n",
      "C:\\Users\\danba\\AppData\\Local\\Packages\\PythonSoftwareFoundation.Python.3.12_qbz5n2kfra8p0\\LocalCache\\local-packages\\Python312\\site-packages\\sklearn\\linear_model\\_logistic.py:465: ConvergenceWarning: lbfgs failed to converge (status=1):\n",
      "STOP: TOTAL NO. OF ITERATIONS REACHED LIMIT.\n",
      "\n",
      "Increase the number of iterations (max_iter) or scale the data as shown in:\n",
      "    https://scikit-learn.org/stable/modules/preprocessing.html\n",
      "Please also refer to the documentation for alternative solver options:\n",
      "    https://scikit-learn.org/stable/modules/linear_model.html#logistic-regression\n",
      "  n_iter_i = _check_optimize_result(\n",
      "C:\\Users\\danba\\AppData\\Local\\Packages\\PythonSoftwareFoundation.Python.3.12_qbz5n2kfra8p0\\LocalCache\\local-packages\\Python312\\site-packages\\sklearn\\utils\\validation.py:1408: DataConversionWarning: A column-vector y was passed when a 1d array was expected. Please change the shape of y to (n_samples, ), for example using ravel().\n",
      "  y = column_or_1d(y, warn=True)\n"
     ]
    },
    {
     "name": "stdout",
     "output_type": "stream",
     "text": [
      "[0.1097561  0.12271341]\n",
      "Mean test score: 0.11623475609756098\n"
     ]
    },
    {
     "name": "stderr",
     "output_type": "stream",
     "text": [
      "C:\\Users\\danba\\AppData\\Local\\Packages\\PythonSoftwareFoundation.Python.3.12_qbz5n2kfra8p0\\LocalCache\\local-packages\\Python312\\site-packages\\sklearn\\linear_model\\_logistic.py:465: ConvergenceWarning: lbfgs failed to converge (status=1):\n",
      "STOP: TOTAL NO. OF ITERATIONS REACHED LIMIT.\n",
      "\n",
      "Increase the number of iterations (max_iter) or scale the data as shown in:\n",
      "    https://scikit-learn.org/stable/modules/preprocessing.html\n",
      "Please also refer to the documentation for alternative solver options:\n",
      "    https://scikit-learn.org/stable/modules/linear_model.html#logistic-regression\n",
      "  n_iter_i = _check_optimize_result(\n"
     ]
    }
   ],
   "source": [
    "from sklearn.model_selection import cross_validate\n",
    "from sklearn.linear_model import LogisticRegression\n",
    "from sklearn.model_selection import StratifiedKFold\n",
    "\n",
    "\n",
    "model = LogisticRegression(penalty='l2')\n",
    "\n",
    "# split the data into two folds while maintaining the class distribution. The least populated class has only two members so the split cannot be greater than 2\n",
    "skf = StratifiedKFold(n_splits=2)\n",
    "cv1 = cross_validate(model, X, y, cv=skf)\n",
    "\n",
    "# print test scores\n",
    "print(cv1['test_score'])\n",
    "print(f\"Mean test score: {cv1['test_score'].mean()}\")"
   ]
  },
  {
   "cell_type": "markdown",
   "metadata": {},
   "source": [
    "Experiement with a Logistic Regression model and the, 'C', parameter. 0.1 provided the best results"
   ]
  },
  {
   "cell_type": "code",
   "execution_count": 49,
   "metadata": {},
   "outputs": [
    {
     "name": "stderr",
     "output_type": "stream",
     "text": [
      "C:\\Users\\danba\\AppData\\Local\\Packages\\PythonSoftwareFoundation.Python.3.12_qbz5n2kfra8p0\\LocalCache\\local-packages\\Python312\\site-packages\\sklearn\\utils\\validation.py:1408: DataConversionWarning: A column-vector y was passed when a 1d array was expected. Please change the shape of y to (n_samples, ), for example using ravel().\n",
      "  y = column_or_1d(y, warn=True)\n",
      "C:\\Users\\danba\\AppData\\Local\\Packages\\PythonSoftwareFoundation.Python.3.12_qbz5n2kfra8p0\\LocalCache\\local-packages\\Python312\\site-packages\\sklearn\\linear_model\\_logistic.py:465: ConvergenceWarning: lbfgs failed to converge (status=1):\n",
      "STOP: TOTAL NO. OF ITERATIONS REACHED LIMIT.\n",
      "\n",
      "Increase the number of iterations (max_iter) or scale the data as shown in:\n",
      "    https://scikit-learn.org/stable/modules/preprocessing.html\n",
      "Please also refer to the documentation for alternative solver options:\n",
      "    https://scikit-learn.org/stable/modules/linear_model.html#logistic-regression\n",
      "  n_iter_i = _check_optimize_result(\n",
      "C:\\Users\\danba\\AppData\\Local\\Packages\\PythonSoftwareFoundation.Python.3.12_qbz5n2kfra8p0\\LocalCache\\local-packages\\Python312\\site-packages\\sklearn\\utils\\validation.py:1408: DataConversionWarning: A column-vector y was passed when a 1d array was expected. Please change the shape of y to (n_samples, ), for example using ravel().\n",
      "  y = column_or_1d(y, warn=True)\n"
     ]
    },
    {
     "name": "stdout",
     "output_type": "stream",
     "text": [
      "[0.11356707 0.12271341]\n",
      "Mean test score: 0.11814024390243902\n"
     ]
    },
    {
     "name": "stderr",
     "output_type": "stream",
     "text": [
      "C:\\Users\\danba\\AppData\\Local\\Packages\\PythonSoftwareFoundation.Python.3.12_qbz5n2kfra8p0\\LocalCache\\local-packages\\Python312\\site-packages\\sklearn\\linear_model\\_logistic.py:465: ConvergenceWarning: lbfgs failed to converge (status=1):\n",
      "STOP: TOTAL NO. OF ITERATIONS REACHED LIMIT.\n",
      "\n",
      "Increase the number of iterations (max_iter) or scale the data as shown in:\n",
      "    https://scikit-learn.org/stable/modules/preprocessing.html\n",
      "Please also refer to the documentation for alternative solver options:\n",
      "    https://scikit-learn.org/stable/modules/linear_model.html#logistic-regression\n",
      "  n_iter_i = _check_optimize_result(\n"
     ]
    }
   ],
   "source": [
    "from sklearn.model_selection import cross_validate\n",
    "from sklearn.linear_model import LogisticRegression\n",
    "from sklearn.model_selection import StratifiedKFold\n",
    "\n",
    "\n",
    "model = LogisticRegression(C=0.1)\n",
    "\n",
    "# split the data into two folds while maintaining the class distribution. The least populated class has only two members so the split cannot be greater than 2\n",
    "skf = StratifiedKFold(n_splits=2)\n",
    "cv1 = cross_validate(model, X, y, cv=skf)\n",
    "\n",
    "# print test scores\n",
    "print(cv1['test_score'])\n",
    "print(f\"Mean test score: {cv1['test_score'].mean()}\")"
   ]
  },
  {
   "cell_type": "markdown",
   "metadata": {},
   "source": [
    "Experiement with a Logistic Regression model and the, 'solver', parameter."
   ]
  },
  {
   "cell_type": "code",
   "execution_count": 51,
   "metadata": {},
   "outputs": [
    {
     "name": "stderr",
     "output_type": "stream",
     "text": [
      "C:\\Users\\danba\\AppData\\Local\\Packages\\PythonSoftwareFoundation.Python.3.12_qbz5n2kfra8p0\\LocalCache\\local-packages\\Python312\\site-packages\\sklearn\\utils\\validation.py:1408: DataConversionWarning: A column-vector y was passed when a 1d array was expected. Please change the shape of y to (n_samples, ), for example using ravel().\n",
      "  y = column_or_1d(y, warn=True)\n",
      "C:\\Users\\danba\\AppData\\Local\\Packages\\PythonSoftwareFoundation.Python.3.12_qbz5n2kfra8p0\\LocalCache\\local-packages\\Python312\\site-packages\\sklearn\\utils\\optimize.py:319: ConvergenceWarning: newton-cg failed to converge at loss = 3.1621619374068337. Increase the number of iterations.\n",
      "  warnings.warn(\n",
      "C:\\Users\\danba\\AppData\\Local\\Packages\\PythonSoftwareFoundation.Python.3.12_qbz5n2kfra8p0\\LocalCache\\local-packages\\Python312\\site-packages\\sklearn\\utils\\validation.py:1408: DataConversionWarning: A column-vector y was passed when a 1d array was expected. Please change the shape of y to (n_samples, ), for example using ravel().\n",
      "  y = column_or_1d(y, warn=True)\n"
     ]
    },
    {
     "name": "stdout",
     "output_type": "stream",
     "text": [
      "[0.12881098 0.13033537]\n",
      "Mean test score: 0.12957317073170732\n"
     ]
    },
    {
     "name": "stderr",
     "output_type": "stream",
     "text": [
      "C:\\Users\\danba\\AppData\\Local\\Packages\\PythonSoftwareFoundation.Python.3.12_qbz5n2kfra8p0\\LocalCache\\local-packages\\Python312\\site-packages\\sklearn\\utils\\optimize.py:319: ConvergenceWarning: newton-cg failed to converge at loss = 3.117497733107925. Increase the number of iterations.\n",
      "  warnings.warn(\n"
     ]
    }
   ],
   "source": [
    "from sklearn.model_selection import cross_validate\n",
    "from sklearn.linear_model import LogisticRegression\n",
    "from sklearn.model_selection import StratifiedKFold\n",
    "\n",
    "\n",
    "model = LogisticRegression(solver='newton-cg')\n",
    "\n",
    "# split the data into two folds while maintaining the class distribution. The least populated class has only two members so the split cannot be greater than 2\n",
    "skf = StratifiedKFold(n_splits=2)\n",
    "cv1 = cross_validate(model, X, y, cv=skf)\n",
    "\n",
    "# print test scores\n",
    "print(cv1['test_score'])\n",
    "print(f\"Mean test score: {cv1['test_score'].mean()}\")"
   ]
  },
  {
   "cell_type": "markdown",
   "metadata": {},
   "source": [
    "Experiement with a Logistic Regression model and the, 'solver', parameter. The 'liblinear' variable has the best performance for this parameter"
   ]
  },
  {
   "cell_type": "code",
   "execution_count": 50,
   "metadata": {},
   "outputs": [
    {
     "name": "stderr",
     "output_type": "stream",
     "text": [
      "C:\\Users\\danba\\AppData\\Local\\Packages\\PythonSoftwareFoundation.Python.3.12_qbz5n2kfra8p0\\LocalCache\\local-packages\\Python312\\site-packages\\sklearn\\utils\\validation.py:1408: DataConversionWarning: A column-vector y was passed when a 1d array was expected. Please change the shape of y to (n_samples, ), for example using ravel().\n",
      "  y = column_or_1d(y, warn=True)\n",
      "C:\\Users\\danba\\AppData\\Local\\Packages\\PythonSoftwareFoundation.Python.3.12_qbz5n2kfra8p0\\LocalCache\\local-packages\\Python312\\site-packages\\sklearn\\utils\\validation.py:1408: DataConversionWarning: A column-vector y was passed when a 1d array was expected. Please change the shape of y to (n_samples, ), for example using ravel().\n",
      "  y = column_or_1d(y, warn=True)\n"
     ]
    },
    {
     "name": "stdout",
     "output_type": "stream",
     "text": [
      "[0.12957317 0.14405488]\n",
      "Mean test score: 0.1368140243902439\n"
     ]
    }
   ],
   "source": [
    "from sklearn.model_selection import cross_validate\n",
    "from sklearn.linear_model import LogisticRegression\n",
    "from sklearn.model_selection import StratifiedKFold\n",
    "\n",
    "\n",
    "model = LogisticRegression(solver='liblinear')\n",
    "\n",
    "# split the data into two folds while maintaining the class distribution. The least populated class has only two members so the split cannot be greater than 2\n",
    "skf = StratifiedKFold(n_splits=2)\n",
    "cv1 = cross_validate(model, X, y, cv=skf)\n",
    "\n",
    "# print test scores\n",
    "print(cv1['test_score'])\n",
    "print(f\"Mean test score: {cv1['test_score'].mean()}\")"
   ]
  },
  {
   "cell_type": "markdown",
   "metadata": {},
   "source": [
    "Experiement with a Logistic Regression model and a Standard Scaler"
   ]
  },
  {
   "cell_type": "code",
   "execution_count": 49,
   "metadata": {},
   "outputs": [
    {
     "name": "stdout",
     "output_type": "stream",
     "text": [
      "[0.12652439 0.12652439]\n",
      "Mean test score: 0.12652439024390244\n"
     ]
    },
    {
     "name": "stderr",
     "output_type": "stream",
     "text": [
      "C:\\Users\\danba\\AppData\\Local\\Packages\\PythonSoftwareFoundation.Python.3.12_qbz5n2kfra8p0\\LocalCache\\local-packages\\Python312\\site-packages\\sklearn\\utils\\validation.py:1408: DataConversionWarning: A column-vector y was passed when a 1d array was expected. Please change the shape of y to (n_samples, ), for example using ravel().\n",
      "  y = column_or_1d(y, warn=True)\n",
      "C:\\Users\\danba\\AppData\\Local\\Packages\\PythonSoftwareFoundation.Python.3.12_qbz5n2kfra8p0\\LocalCache\\local-packages\\Python312\\site-packages\\sklearn\\utils\\validation.py:1408: DataConversionWarning: A column-vector y was passed when a 1d array was expected. Please change the shape of y to (n_samples, ), for example using ravel().\n",
      "  y = column_or_1d(y, warn=True)\n"
     ]
    }
   ],
   "source": [
    "from sklearn.model_selection import cross_validate\n",
    "from sklearn.linear_model import LogisticRegression\n",
    "from sklearn.model_selection import StratifiedKFold\n",
    "from sklearn.preprocessing import StandardScaler\n",
    "\n",
    "model = LogisticRegression()\n",
    "\n",
    "# split the data into two folds while maintaining the class distribution. The least populated class has only two members so the split cannot be greater than 2\n",
    "scaler = StandardScaler()\n",
    "X_scaled = scaler.fit_transform(X)\n",
    "skf = StratifiedKFold(n_splits=2)\n",
    "cv1 = cross_validate(model, X_scaled, y, cv=skf)\n",
    "\n",
    "# print test scores\n",
    "print(cv1['test_score'])\n",
    "print(f\"Mean test score: {cv1['test_score'].mean()}\")"
   ]
  },
  {
   "cell_type": "markdown",
   "metadata": {},
   "source": [
    "Control for experiments for the GaussianNB model"
   ]
  },
  {
   "cell_type": "code",
   "execution_count": 48,
   "metadata": {},
   "outputs": [
    {
     "name": "stdout",
     "output_type": "stream",
     "text": [
      "[0.1257622  0.13338415]\n",
      "Mean test score: 0.12957317073170732\n"
     ]
    },
    {
     "name": "stderr",
     "output_type": "stream",
     "text": [
      "C:\\Users\\danba\\AppData\\Local\\Packages\\PythonSoftwareFoundation.Python.3.12_qbz5n2kfra8p0\\LocalCache\\local-packages\\Python312\\site-packages\\sklearn\\utils\\validation.py:1408: DataConversionWarning: A column-vector y was passed when a 1d array was expected. Please change the shape of y to (n_samples, ), for example using ravel().\n",
      "  y = column_or_1d(y, warn=True)\n",
      "C:\\Users\\danba\\AppData\\Local\\Packages\\PythonSoftwareFoundation.Python.3.12_qbz5n2kfra8p0\\LocalCache\\local-packages\\Python312\\site-packages\\sklearn\\utils\\validation.py:1408: DataConversionWarning: A column-vector y was passed when a 1d array was expected. Please change the shape of y to (n_samples, ), for example using ravel().\n",
      "  y = column_or_1d(y, warn=True)\n"
     ]
    }
   ],
   "source": [
    "from sklearn.model_selection import cross_validate\n",
    "from sklearn.naive_bayes import GaussianNB\n",
    "from sklearn.model_selection import StratifiedKFold\n",
    "\n",
    "\n",
    "model = GaussianNB()\n",
    "\n",
    "# split the data into two folds while maintaining the class distribution. The least populated class has only two members so the split cannot be greater than 2\n",
    "skf = StratifiedKFold(n_splits=2)\n",
    "cv1 = cross_validate(model, X, y, cv=skf)\n",
    "\n",
    "# print test scores\n",
    "print(cv1['test_score'])\n",
    "print(f\"Mean test score: {cv1['test_score'].mean()}\")"
   ]
  },
  {
   "cell_type": "markdown",
   "metadata": {},
   "source": [
    "Experiment with a GaussianNB model and a Standard Scaler, also used var_smoothing."
   ]
  },
  {
   "cell_type": "code",
   "execution_count": 131,
   "metadata": {},
   "outputs": [
    {
     "name": "stdout",
     "output_type": "stream",
     "text": [
      "[0.16158537 0.13795732]\n",
      "Mean test score: 0.14977134146341464\n"
     ]
    },
    {
     "name": "stderr",
     "output_type": "stream",
     "text": [
      "C:\\Users\\danba\\AppData\\Local\\Packages\\PythonSoftwareFoundation.Python.3.12_qbz5n2kfra8p0\\LocalCache\\local-packages\\Python312\\site-packages\\sklearn\\utils\\validation.py:1408: DataConversionWarning: A column-vector y was passed when a 1d array was expected. Please change the shape of y to (n_samples, ), for example using ravel().\n",
      "  y = column_or_1d(y, warn=True)\n",
      "C:\\Users\\danba\\AppData\\Local\\Packages\\PythonSoftwareFoundation.Python.3.12_qbz5n2kfra8p0\\LocalCache\\local-packages\\Python312\\site-packages\\sklearn\\utils\\validation.py:1408: DataConversionWarning: A column-vector y was passed when a 1d array was expected. Please change the shape of y to (n_samples, ), for example using ravel().\n",
      "  y = column_or_1d(y, warn=True)\n"
     ]
    }
   ],
   "source": [
    "from sklearn.model_selection import cross_validate\n",
    "from sklearn.naive_bayes import GaussianNB\n",
    "from sklearn.model_selection import StratifiedKFold\n",
    "from sklearn.preprocessing import StandardScaler\n",
    "\n",
    "scaler = StandardScaler()\n",
    "X_scaled = scaler.fit_transform(X)\n",
    "\n",
    "\n",
    "model = GaussianNB(var_smoothing=1e-1)  # Try different values\n",
    "\n",
    "# split the data into two folds while maintaining the class distribution. The least populated class has only two members so the split cannot be greater than 2\n",
    "skf = StratifiedKFold(n_splits=2)\n",
    "cv1 = cross_validate(model, X_scaled, y, cv=skf)\n",
    "\n",
    "\n",
    "# print test scores\n",
    "print(cv1['test_score'])\n",
    "print(f\"Mean test score: {cv1['test_score'].mean()}\")"
   ]
  },
  {
   "cell_type": "markdown",
   "metadata": {},
   "source": [
    "Experiment with a GaussianNB model by electing the most relevant features in order to improve model performance"
   ]
  },
  {
   "cell_type": "code",
   "execution_count": 28,
   "metadata": {},
   "outputs": [
    {
     "name": "stdout",
     "output_type": "stream",
     "text": [
      "[0.13795732 0.14634146]\n",
      "Mean test score: 0.14214939024390244\n"
     ]
    },
    {
     "name": "stderr",
     "output_type": "stream",
     "text": [
      "C:\\Users\\danba\\AppData\\Local\\Packages\\PythonSoftwareFoundation.Python.3.12_qbz5n2kfra8p0\\LocalCache\\local-packages\\Python312\\site-packages\\sklearn\\utils\\validation.py:1408: DataConversionWarning: A column-vector y was passed when a 1d array was expected. Please change the shape of y to (n_samples, ), for example using ravel().\n",
      "  y = column_or_1d(y, warn=True)\n",
      "C:\\Users\\danba\\AppData\\Local\\Packages\\PythonSoftwareFoundation.Python.3.12_qbz5n2kfra8p0\\LocalCache\\local-packages\\Python312\\site-packages\\sklearn\\utils\\validation.py:1408: DataConversionWarning: A column-vector y was passed when a 1d array was expected. Please change the shape of y to (n_samples, ), for example using ravel().\n",
      "  y = column_or_1d(y, warn=True)\n"
     ]
    }
   ],
   "source": [
    "from sklearn.model_selection import cross_validate\n",
    "from sklearn.naive_bayes import GaussianNB\n",
    "from sklearn.model_selection import StratifiedKFold\n",
    "from sklearn.feature_selection import SelectKBest, chi2\n",
    "\n",
    "selector = SelectKBest(chi2, k=5)  # a higher or lower K value worsens model accuracy. k=5 returns the best results\n",
    "X_selected = selector.fit_transform(X, y)\n",
    "\n",
    "model = GaussianNB()\n",
    "\n",
    "# split the data into two folds while maintaining the class distribution. The least populated class has only two members so the split cannot be greater than 2\n",
    "skf = StratifiedKFold(n_splits=2)\n",
    "cv1 = cross_validate(model, X_selected, y, cv=skf)\n",
    "\n",
    "# print test scores\n",
    "print(cv1['test_score'])\n",
    "print(f\"Mean test score: {cv1['test_score'].mean()}\")"
   ]
  }
 ],
 "metadata": {
  "colab": {
   "collapsed_sections": [],
   "name": "Demystifying Comp Class 3 Questions.ipynb",
   "provenance": []
  },
  "kernelspec": {
   "display_name": "Python 3",
   "language": "python",
   "name": "python3"
  },
  "language_info": {
   "codemirror_mode": {
    "name": "ipython",
    "version": 3
   },
   "file_extension": ".py",
   "mimetype": "text/x-python",
   "name": "python",
   "nbconvert_exporter": "python",
   "pygments_lexer": "ipython3",
   "version": "3.12.10"
  }
 },
 "nbformat": 4,
 "nbformat_minor": 2
}
